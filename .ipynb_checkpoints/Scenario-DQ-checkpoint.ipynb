{
 "cells": [
  {
   "cell_type": "code",
   "execution_count": 1,
   "id": "67439196",
   "metadata": {},
   "outputs": [
    {
     "name": "stdout",
     "output_type": "stream",
     "text": [
      "importing Jupyter notebook from stage.ipynb\n",
      "importing Jupyter notebook from DQL.ipynb\n"
     ]
    }
   ],
   "source": [
    "import import_ipynb\n",
    "import stage\n",
    "from DQL import DeepQLearn\n",
    "import numpy as np\n",
    "from IPython.display import clear_output\n",
    "from sty import fg, bg, ef, rs\n",
    "import random\n",
    "import matplotlib.pyplot as plt"
   ]
  },
  {
   "cell_type": "code",
   "execution_count": 2,
   "id": "2e11dd80",
   "metadata": {},
   "outputs": [],
   "source": [
    "setup_1 = [\n",
    "    \"xxxxxxxxxx\",\n",
    "    \"xxxxxxxxxx\",\n",
    "    \"x        x\",\n",
    "    \"xxxxxxxxxx\",\n",
    "    \n",
    "]\n",
    "\n",
    "end_1 = [(2, 8)]"
   ]
  },
  {
   "cell_type": "code",
   "execution_count": 3,
   "id": "5a940556",
   "metadata": {},
   "outputs": [],
   "source": [
    "a = stage.Agent(2, 1, bg.red, fg.red)\n",
    "siglePlay = stage.Environment(setup_1, [a],end_1)"
   ]
  },
  {
   "cell_type": "code",
   "execution_count": 4,
   "id": "b368aeb8",
   "metadata": {},
   "outputs": [
    {
     "name": "stdout",
     "output_type": "stream",
     "text": [
      "          \n",
      " -------- \n",
      "|\u001b[41m \u001b[49m      \u001b[31mx\u001b[39m|\n",
      " -------- \n"
     ]
    }
   ],
   "source": [
    "print(siglePlay.render())"
   ]
  },
  {
   "cell_type": "code",
   "execution_count": 5,
   "id": "a7a4421b",
   "metadata": {},
   "outputs": [],
   "source": [
    "siglePlayDQ = DeepQLearn(siglePlay)"
   ]
  },
  {
   "cell_type": "code",
   "execution_count": 6,
   "id": "c985db70",
   "metadata": {},
   "outputs": [
    {
     "ename": "NameError",
     "evalue": "name 'x' is not defined",
     "output_type": "error",
     "traceback": [
      "\u001b[0;31m---------------------------------------------------------------------------\u001b[0m",
      "\u001b[0;31mNameError\u001b[0m                                 Traceback (most recent call last)",
      "Input \u001b[0;32mIn [6]\u001b[0m, in \u001b[0;36m<cell line: 1>\u001b[0;34m()\u001b[0m\n\u001b[0;32m----> 1\u001b[0m \u001b[43msiglePlayDQ\u001b[49m\u001b[38;5;241;43m.\u001b[39;49m\u001b[43mtrain\u001b[49m\u001b[43m(\u001b[49m\u001b[38;5;241;43m0\u001b[39;49m\u001b[43m,\u001b[49m\u001b[43m \u001b[49m\u001b[38;5;241;43m500\u001b[39;49m\u001b[43m)\u001b[49m\n",
      "File \u001b[0;32m<string>:16\u001b[0m, in \u001b[0;36mtrain\u001b[0;34m(self, cap, episodes)\u001b[0m\n",
      "File \u001b[0;32m<string>:46\u001b[0m, in \u001b[0;36mstate\u001b[0;34m(self)\u001b[0m\n",
      "\u001b[0;31mNameError\u001b[0m: name 'x' is not defined"
     ]
    }
   ],
   "source": [
    "siglePlayDQ.train(0, 500)"
   ]
  },
  {
   "cell_type": "code",
   "execution_count": null,
   "id": "99625cdb",
   "metadata": {},
   "outputs": [],
   "source": []
  }
 ],
 "metadata": {
  "kernelspec": {
   "display_name": "Python 3 (ipykernel)",
   "language": "python",
   "name": "python3"
  },
  "language_info": {
   "codemirror_mode": {
    "name": "ipython",
    "version": 3
   },
   "file_extension": ".py",
   "mimetype": "text/x-python",
   "name": "python",
   "nbconvert_exporter": "python",
   "pygments_lexer": "ipython3",
   "version": "3.10.3"
  }
 },
 "nbformat": 4,
 "nbformat_minor": 5
}
