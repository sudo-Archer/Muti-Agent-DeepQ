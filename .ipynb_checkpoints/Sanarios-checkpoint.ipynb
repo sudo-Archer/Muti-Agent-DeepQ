{
 "cells": [
  {
   "cell_type": "code",
   "execution_count": 1,
   "id": "7cbb0b40",
   "metadata": {},
   "outputs": [
    {
     "name": "stdout",
     "output_type": "stream",
     "text": [
      "importing Jupyter notebook from stage.ipynb\n",
      "importing Jupyter notebook from MARL.ipynb\n"
     ]
    }
   ],
   "source": [
    "import import_ipynb\n",
    "import stage\n",
    "import MARL as ma\n",
    "import numpy as np\n",
    "from IPython.display import clear_output\n",
    "from sty import fg, bg, ef, rs\n",
    "import random\n",
    "import matplotlib.pyplot as plt"
   ]
  },
  {
   "cell_type": "markdown",
   "id": "cfe970a3",
   "metadata": {},
   "source": [
    "## Single Agnet ENV"
   ]
  },
  {
   "cell_type": "code",
   "execution_count": 2,
   "id": "9bd5df9d",
   "metadata": {},
   "outputs": [],
   "source": [
    "setup_2 = [\n",
    "    \"xxxxxxxxxx\",\n",
    "    \"xxxxx xxxx\",\n",
    "    \"x        x\",\n",
    "    \"xxxxxxxxxx\",\n",
    "    \n",
    "]\n",
    "\n",
    "end = [(2, 8), (2, 1)]"
   ]
  },
  {
   "cell_type": "code",
   "execution_count": 3,
   "id": "c2e748ca",
   "metadata": {},
   "outputs": [],
   "source": [
    "a = stage.Agent(2, 1, bg.red, fg.red)\n",
    "b = stage.Agent(2, 8, bg.blue, fg.blue)\n",
    "siglePlay = stage.Environment(setup_2, [a], [end[0]])"
   ]
  },
  {
   "cell_type": "code",
   "execution_count": 4,
   "id": "07f9689d",
   "metadata": {},
   "outputs": [
    {
     "name": "stdout",
     "output_type": "stream",
     "text": [
      "     -    \n",
      " ---+ +-- \n",
      "|\u001b[41m \u001b[49m      \u001b[31mx\u001b[39m|\n",
      " -------- \n"
     ]
    }
   ],
   "source": [
    "print(siglePlay.render())"
   ]
  },
  {
   "cell_type": "code",
   "execution_count": 5,
   "id": "7be1c6bf",
   "metadata": {},
   "outputs": [
    {
     "name": "stdout",
     "output_type": "stream",
     "text": [
      "64\n"
     ]
    }
   ],
   "source": [
    "randomPlay = ma.Play_random(siglePlay)\n",
    "frames = randomPlay.play()\n",
    "print(len(frames))"
   ]
  },
  {
   "cell_type": "code",
   "execution_count": 6,
   "id": "6ce9ac17",
   "metadata": {},
   "outputs": [],
   "source": [
    "# stage.print_frames(frames)"
   ]
  },
  {
   "cell_type": "code",
   "execution_count": 7,
   "id": "ccd1aa6f",
   "metadata": {},
   "outputs": [
    {
     "name": "stdout",
     "output_type": "stream",
     "text": [
      "Episode: 900\n",
      "Time: 7.62\n",
      "Training Finished!\n"
     ]
    }
   ],
   "source": [
    "sigleQtb = ma.ClassicQlearning(siglePlay)\n",
    "sigleQtb.train()"
   ]
  },
  {
   "cell_type": "code",
   "execution_count": 8,
   "id": "7d133d39",
   "metadata": {},
   "outputs": [
    {
     "name": "stdout",
     "output_type": "stream",
     "text": [
      "     -    \n",
      " ---+ +-- \n",
      "|       \u001b[41m\u001b[31mx\u001b[39m\u001b[49m|\n",
      " -------- \n"
     ]
    }
   ],
   "source": [
    "sigleQtb.show()"
   ]
  },
  {
   "cell_type": "markdown",
   "id": "014cb993",
   "metadata": {},
   "source": [
    "## Parking with Multi 2 agnts "
   ]
  },
  {
   "cell_type": "code",
   "execution_count": 9,
   "id": "e4ae4694",
   "metadata": {},
   "outputs": [],
   "source": [
    "setup_1 = [\n",
    "    \"xxxxxxxxxx\",\n",
    "    \"x x      x\",\n",
    "    \"x x  x   x\",\n",
    "    \"x x  x   x\",\n",
    "    \"x    x   x\", \n",
    "    \"xxxxxxxxxx\"\n",
    "    \n",
    "]\n",
    "\n",
    "end = [(1, 1), (4, 4)]"
   ]
  },
  {
   "cell_type": "code",
   "execution_count": 10,
   "id": "4a73a0d0",
   "metadata": {},
   "outputs": [],
   "source": [
    "a = stage.Agent(4, 8, bg.red, fg.red)\n",
    "b = stage.Agent(3, 8, bg.blue, fg.blue)\n",
    "partking_2Aent = stage.Environment(setup_1, [a, b], end)"
   ]
  },
  {
   "cell_type": "code",
   "execution_count": 11,
   "id": "93df9594",
   "metadata": {},
   "outputs": [],
   "source": [
    "parking_1Agent = stage.Environment(setup_1, [a], [(1, 1)])"
   ]
  },
  {
   "cell_type": "code",
   "execution_count": 12,
   "id": "ff9334a0",
   "metadata": {},
   "outputs": [],
   "source": [
    "model = ma.ClassicQlearning(parking_1Agent)"
   ]
  },
  {
   "cell_type": "code",
   "execution_count": 13,
   "id": "4c0a36c9",
   "metadata": {},
   "outputs": [
    {
     "name": "stdout",
     "output_type": "stream",
     "text": [
      "Episode: 900\n",
      "Time: 17.61\n",
      "Training Finished!\n"
     ]
    }
   ],
   "source": [
    "model.train()"
   ]
  },
  {
   "cell_type": "code",
   "execution_count": 14,
   "id": "71821643",
   "metadata": {},
   "outputs": [
    {
     "name": "stdout",
     "output_type": "stream",
     "text": [
      " - ------ \n",
      "|\u001b[41m\u001b[31mx\u001b[39m\u001b[49m|      |\n",
      "| |  +   |\n",
      "| +  |   |\n",
      "|    |   |\n",
      " ---- --- \n"
     ]
    }
   ],
   "source": [
    "model.show()"
   ]
  },
  {
   "cell_type": "code",
   "execution_count": 15,
   "id": "a9c08196",
   "metadata": {},
   "outputs": [
    {
     "name": "stdout",
     "output_type": "stream",
     "text": [
      " - ------ \n",
      "|\u001b[31mx\u001b[39m|      |\n",
      "| |  +   |\n",
      "| +  |  \u001b[44m \u001b[49m|\n",
      "|   \u001b[34mx\u001b[39m|  \u001b[41m \u001b[49m|\n",
      " ---- --- \n"
     ]
    }
   ],
   "source": [
    "print(partking_2Aent.render())"
   ]
  },
  {
   "cell_type": "code",
   "execution_count": 16,
   "id": "46ba1a8d",
   "metadata": {},
   "outputs": [],
   "source": [
    "# parking_random = ma.Play_random(partking_2Aent)\n",
    "# parking_random.show()"
   ]
  },
  {
   "cell_type": "code",
   "execution_count": 17,
   "id": "03a7408d",
   "metadata": {},
   "outputs": [],
   "source": [
    "parking_clsic_QL = ma.ClassicQlearning(partking_2Aent)"
   ]
  },
  {
   "cell_type": "code",
   "execution_count": 18,
   "id": "fd379a23",
   "metadata": {},
   "outputs": [
    {
     "name": "stdout",
     "output_type": "stream",
     "text": [
      "Episode: 900\n",
      "Time: 19.02\n",
      "Training Finished!\n"
     ]
    }
   ],
   "source": [
    "parking_clsic_QL.train(epochs=1_000)"
   ]
  },
  {
   "cell_type": "code",
   "execution_count": 19,
   "id": "21f51d90",
   "metadata": {},
   "outputs": [],
   "source": [
    "parking_clsic_ML = ma.MeanField(parking_1Agent)"
   ]
  },
  {
   "cell_type": "code",
   "execution_count": 20,
   "id": "fa713a3f",
   "metadata": {},
   "outputs": [
    {
     "ename": "AttributeError",
     "evalue": "'Environment' object has no attribute 'state'",
     "output_type": "error",
     "traceback": [
      "\u001b[0;31m---------------------------------------------------------------------------\u001b[0m",
      "\u001b[0;31mAttributeError\u001b[0m                            Traceback (most recent call last)",
      "Input \u001b[0;32mIn [20]\u001b[0m, in \u001b[0;36m<cell line: 1>\u001b[0;34m()\u001b[0m\n\u001b[0;32m----> 1\u001b[0m \u001b[43mparking_clsic_ML\u001b[49m\u001b[38;5;241;43m.\u001b[39;49m\u001b[43mtrain\u001b[49m\u001b[43m(\u001b[49m\u001b[43mepochs\u001b[49m\u001b[38;5;241;43m=\u001b[39;49m\u001b[38;5;241;43m1_000\u001b[39;49m\u001b[43m)\u001b[49m\n",
      "File \u001b[0;32m<string>:30\u001b[0m, in \u001b[0;36mtrain\u001b[0;34m(self, alpha, gamma, epsilon, epochs, cap)\u001b[0m\n",
      "\u001b[0;31mAttributeError\u001b[0m: 'Environment' object has no attribute 'state'"
     ]
    }
   ],
   "source": [
    "parking_clsic_ML.train(epochs=1_000)"
   ]
  },
  {
   "cell_type": "code",
   "execution_count": null,
   "id": "7cda9768",
   "metadata": {},
   "outputs": [],
   "source": [
    "parking_clsic_ML.show()"
   ]
  },
  {
   "cell_type": "markdown",
   "id": "0d5374d1",
   "metadata": {},
   "source": [
    "## Interchage with 2 agents"
   ]
  },
  {
   "cell_type": "code",
   "execution_count": null,
   "id": "534de2a2",
   "metadata": {},
   "outputs": [],
   "source": [
    "setup_2 = [\n",
    "    \"xxxxxxxxxx\",\n",
    "    \"xxxxx xxxx\",\n",
    "    \"x        x\",\n",
    "    \"xxxxxxxxxx\",\n",
    "    \n",
    "]\n",
    "\n",
    "end = [(2, 8), (2, 1)]"
   ]
  },
  {
   "cell_type": "code",
   "execution_count": null,
   "id": "cec5e9b6",
   "metadata": {},
   "outputs": [],
   "source": [
    "a = stage.Agent(2, 1, bg.red, fg.red)\n",
    "b = stage.Agent(2, 8, bg.blue, fg.blue)\n",
    "interChage_2a = stage.Environment(setup_2, [a, b], end)"
   ]
  },
  {
   "cell_type": "code",
   "execution_count": null,
   "id": "d53bc3b9",
   "metadata": {},
   "outputs": [],
   "source": [
    "print(interChage_2a.render())"
   ]
  },
  {
   "cell_type": "code",
   "execution_count": null,
   "id": "4ee2985a",
   "metadata": {},
   "outputs": [],
   "source": [
    "interChage_2a_CL = ma.ClassicQlearning(interChage_2a)"
   ]
  },
  {
   "cell_type": "code",
   "execution_count": null,
   "id": "dfde49fc",
   "metadata": {},
   "outputs": [],
   "source": [
    "interChage_2a_CL.train(epochs= 1_000)"
   ]
  },
  {
   "cell_type": "code",
   "execution_count": null,
   "id": "69eec342",
   "metadata": {},
   "outputs": [],
   "source": [
    "interChage_2a_CL.show()"
   ]
  },
  {
   "cell_type": "code",
   "execution_count": null,
   "id": "ca83fa76",
   "metadata": {},
   "outputs": [],
   "source": [
    "interChage_2a_ML = ma.MeanField(interChage_2a)"
   ]
  },
  {
   "cell_type": "code",
   "execution_count": null,
   "id": "9d189fca",
   "metadata": {},
   "outputs": [],
   "source": [
    "interChage_2a_ML.train(alpha= 0.3, epochs=100_000, cap=600)"
   ]
  },
  {
   "cell_type": "code",
   "execution_count": null,
   "id": "f1cc4467",
   "metadata": {},
   "outputs": [],
   "source": [
    "interChage_2a_ML.show()"
   ]
  },
  {
   "cell_type": "code",
   "execution_count": null,
   "id": "eaa83110",
   "metadata": {},
   "outputs": [],
   "source": []
  }
 ],
 "metadata": {
  "kernelspec": {
   "display_name": "Python 3 (ipykernel)",
   "language": "python",
   "name": "python3"
  },
  "language_info": {
   "codemirror_mode": {
    "name": "ipython",
    "version": 3
   },
   "file_extension": ".py",
   "mimetype": "text/x-python",
   "name": "python",
   "nbconvert_exporter": "python",
   "pygments_lexer": "ipython3",
   "version": "3.10.2"
  }
 },
 "nbformat": 4,
 "nbformat_minor": 5
}
