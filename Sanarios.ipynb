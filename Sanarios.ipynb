{
 "cells": [
  {
   "cell_type": "code",
   "execution_count": 1,
   "id": "bd773f61",
   "metadata": {},
   "outputs": [
    {
     "name": "stdout",
     "output_type": "stream",
     "text": [
      "importing Jupyter notebook from stage.ipynb\n",
      "importing Jupyter notebook from MARL.ipynb\n"
     ]
    }
   ],
   "source": [
    "import import_ipynb\n",
    "import stage\n",
    "import MARL as ma\n",
    "import numpy as np\n",
    "from IPython.display import clear_output\n",
    "from sty import fg, bg, ef, rs\n",
    "import random\n",
    "import matplotlib.pyplot as plt"
   ]
  },
  {
   "cell_type": "markdown",
   "id": "2e03fe41",
   "metadata": {},
   "source": [
    "## Single Agnet ENV"
   ]
  },
  {
   "cell_type": "code",
   "execution_count": 2,
   "id": "9d74d030",
   "metadata": {},
   "outputs": [],
   "source": [
    "setup_1 = [\n",
    "    \"xxxxxxxxxx\",\n",
    "    \"xxxxxxxxxx\",\n",
    "    \"x        x\",\n",
    "    \"xxxxxxxxxx\",\n",
    "    \n",
    "]\n",
    "\n",
    "end_1 = [(2, 8)]"
   ]
  },
  {
   "cell_type": "code",
   "execution_count": 3,
   "id": "32d076e4",
   "metadata": {},
   "outputs": [],
   "source": [
    "a = stage.Agent(2, 1, bg.red, fg.red)\n",
    "siglePlay = stage.Environment(setup_1, [a],end_1)"
   ]
  },
  {
   "cell_type": "code",
   "execution_count": 4,
   "id": "0e66fa20",
   "metadata": {},
   "outputs": [
    {
     "name": "stdout",
     "output_type": "stream",
     "text": [
      "          \n",
      " -------- \n",
      "|\u001b[41m \u001b[49m      \u001b[31mx\u001b[39m|\n",
      " -------- \n"
     ]
    }
   ],
   "source": [
    "print(siglePlay.render())"
   ]
  },
  {
   "cell_type": "code",
   "execution_count": 5,
   "id": "a861861e",
   "metadata": {},
   "outputs": [
    {
     "name": "stdout",
     "output_type": "stream",
     "text": [
      "38\n"
     ]
    }
   ],
   "source": [
    "randomPlay = ma.Play_random(siglePlay)\n",
    "frames = randomPlay.play()\n",
    "print(len(frames))"
   ]
  },
  {
   "cell_type": "code",
   "execution_count": 6,
   "id": "2083b36f",
   "metadata": {},
   "outputs": [],
   "source": [
    "# stage.print_frames(frames)"
   ]
  },
  {
   "cell_type": "code",
   "execution_count": 7,
   "id": "9df59352",
   "metadata": {},
   "outputs": [
    {
     "name": "stdout",
     "output_type": "stream",
     "text": [
      "Episode: 900\n",
      "Time: 7.85\n",
      "Training Finished!\n"
     ]
    }
   ],
   "source": [
    "sigleQtb = ma.ClassicQlearning(siglePlay)\n",
    "sigleQtb.train()"
   ]
  },
  {
   "cell_type": "code",
   "execution_count": 8,
   "id": "58ca275c",
   "metadata": {},
   "outputs": [
    {
     "name": "stdout",
     "output_type": "stream",
     "text": [
      "          \n",
      " -------- \n",
      "|       \u001b[41m\u001b[31mx\u001b[39m\u001b[49m|\n",
      " -------- \n"
     ]
    }
   ],
   "source": [
    "sigleQtb.show()"
   ]
  },
  {
   "cell_type": "markdown",
   "id": "8007c441",
   "metadata": {},
   "source": [
    "## Parking with Multi 2 agnts "
   ]
  },
  {
   "cell_type": "code",
   "execution_count": 9,
   "id": "910b9fde",
   "metadata": {},
   "outputs": [],
   "source": [
    "setup_2 = [\n",
    "    \"xxxxxxxxxx\",\n",
    "    \"x x      x\",\n",
    "    \"x x  x   x\",\n",
    "    \"x x  x   x\",\n",
    "    \"x    x   x\", \n",
    "    \"xxxxxxxxxx\"\n",
    "    \n",
    "]\n",
    "\n",
    "end_2 = [(1, 1), (4, 4)]"
   ]
  },
  {
   "cell_type": "code",
   "execution_count": 10,
   "id": "5924622b",
   "metadata": {},
   "outputs": [],
   "source": [
    "a = stage.Agent(4, 8, bg.red, fg.red)\n",
    "b = stage.Agent(3, 8, bg.blue, fg.blue)\n",
    "partking_2Agent = stage.Environment(setup_2, [a, b], end_2)"
   ]
  },
  {
   "cell_type": "code",
   "execution_count": 11,
   "id": "5f9d6781",
   "metadata": {},
   "outputs": [
    {
     "name": "stdout",
     "output_type": "stream",
     "text": [
      " - ------ \n",
      "|\u001b[31mx\u001b[39m|      |\n",
      "| |  +   |\n",
      "| +  |  \u001b[44m \u001b[49m|\n",
      "|   \u001b[34mx\u001b[39m|  \u001b[41m \u001b[49m|\n",
      " ---- --- \n"
     ]
    }
   ],
   "source": [
    "\n",
    "episode 199 score -1001.00 averaeg score -894.74 epsilon 0.01"
   ]
  },
  {
   "cell_type": "code",
   "execution_count": 12,
   "id": "4d06c505",
   "metadata": {},
   "outputs": [],
   "source": [
    "# parking_random = ma.Play_random(partking_2Aent)\n",
    "# parking_random.show()"
   ]
  },
  {
   "cell_type": "code",
   "execution_count": 13,
   "id": "1a76f8e7",
   "metadata": {},
   "outputs": [],
   "source": [
    "parking_clsic_QL = ma.ClassicQlearning(partking_2Agent)"
   ]
  },
  {
   "cell_type": "code",
   "execution_count": 14,
   "id": "f8ca5cf1",
   "metadata": {},
   "outputs": [
    {
     "name": "stdout",
     "output_type": "stream",
     "text": [
      "Episode: 900\n",
      "Time: 19.1\n",
      "Training Finished!\n"
     ]
    }
   ],
   "source": [
    "parking_clsic_QL.train(epochs=1_000)"
   ]
  },
  {
   "cell_type": "code",
   "execution_count": 15,
   "id": "e692b089",
   "metadata": {},
   "outputs": [
    {
     "name": "stdout",
     "output_type": "stream",
     "text": [
      " - ------ \n",
      "|\u001b[41m\u001b[31mx\u001b[39m\u001b[49m|      |\n",
      "| |  +   |\n",
      "| +  |   |\n",
      "|   \u001b[44m\u001b[34mx\u001b[39m\u001b[49m|   |\n",
      " ---- --- \n"
     ]
    }
   ],
   "source": [
    "parking_clsic_QL.show()"
   ]
  },
  {
   "cell_type": "markdown",
   "id": "cff53983",
   "metadata": {},
   "source": [
    "## Narrow road 2 agents"
   ]
  },
  {
   "cell_type": "code",
   "execution_count": 16,
   "id": "006f5c6e",
   "metadata": {},
   "outputs": [],
   "source": [
    "setup_3 = [\n",
    "    \"xxxxxxxxxx\",\n",
    "    \"xxxxx xxxx\",\n",
    "    \"x        x\",\n",
    "    \"xxxxxxxxxx\",\n",
    "    \n",
    "]\n",
    "\n",
    "end = [(2, 8), (2, 1)]"
   ]
  },
  {
   "cell_type": "code",
   "execution_count": 17,
   "id": "089a155f",
   "metadata": {},
   "outputs": [],
   "source": [
    "a = stage.Agent(2, 1, bg.red, fg.red)\n",
    "b = stage.Agent(2, 8, bg.blue, fg.blue)\n",
    "interChage_2a = stage.Environment(setup_3, [a, b], end)"
   ]
  },
  {
   "cell_type": "code",
   "execution_count": 18,
   "id": "df86125d",
   "metadata": {},
   "outputs": [
    {
     "name": "stdout",
     "output_type": "stream",
     "text": [
      "     -    \n",
      " ---+ +-- \n",
      "|\u001b[41m\u001b[34mx\u001b[39m\u001b[49m      \u001b[44m\u001b[31mx\u001b[39m\u001b[49m|\n",
      " -------- \n"
     ]
    }
   ],
   "source": [
    "print(interChage_2a.render())"
   ]
  },
  {
   "cell_type": "code",
   "execution_count": 19,
   "id": "5a9705ba",
   "metadata": {},
   "outputs": [],
   "source": [
    "interChage_2a_CL = ma.ClassicQlearning(interChage_2a)"
   ]
  },
  {
   "cell_type": "code",
   "execution_count": 20,
   "id": "08310ce9",
   "metadata": {},
   "outputs": [
    {
     "name": "stdout",
     "output_type": "stream",
     "text": [
      "Episode: 900\n",
      "Time: 162.15\n",
      "Training Finished!\n"
     ]
    }
   ],
   "source": [
    "interChage_2a_CL.train(epochs= 1_000)"
   ]
  },
  {
   "cell_type": "code",
   "execution_count": 21,
   "id": "7face040",
   "metadata": {},
   "outputs": [
    {
     "name": "stdout",
     "output_type": "stream",
     "text": [
      "     -    \n",
      " ---+ +-- \n",
      "|\u001b[44m\u001b[34mx\u001b[39m\u001b[49m      \u001b[41m\u001b[31mx\u001b[39m\u001b[49m|\n",
      " -------- \n"
     ]
    }
   ],
   "source": [
    "interChage_2a_CL.show()"
   ]
  },
  {
   "cell_type": "code",
   "execution_count": 22,
   "id": "6306e0c9",
   "metadata": {},
   "outputs": [],
   "source": [
    "interChage_2a_ML = ma.MeanField(interChage_2a)"
   ]
  },
  {
   "cell_type": "code",
   "execution_count": 23,
   "id": "266ea7b2",
   "metadata": {},
   "outputs": [
    {
     "name": "stdout",
     "output_type": "stream",
     "text": [
      "Episode: 9900\n",
      "Time: 13.57\n",
      "Training Finished!\n"
     ]
    }
   ],
   "source": [
    "interChage_2a_ML.train(alpha= 0.3, epochs=10_000, cap=1_000)"
   ]
  },
  {
   "cell_type": "code",
   "execution_count": 24,
   "id": "2c40fcf7",
   "metadata": {},
   "outputs": [
    {
     "name": "stdout",
     "output_type": "stream",
     "text": [
      "     -    \n",
      " ---+ +-- \n",
      "|\u001b[44m\u001b[34mx\u001b[39m\u001b[49m      \u001b[41m\u001b[31mx\u001b[39m\u001b[49m|\n",
      " -------- \n"
     ]
    }
   ],
   "source": [
    "interChage_2a_ML.show(cap = 100)"
   ]
  },
  {
   "cell_type": "markdown",
   "id": "5c6f816c",
   "metadata": {},
   "source": [
    "## Interchage with 2 Agents"
   ]
  },
  {
   "cell_type": "code",
   "execution_count": 25,
   "id": "8b232636",
   "metadata": {},
   "outputs": [],
   "source": [
    "setup_4 = [\n",
    "    \"xxxxxxxxxxx\",\n",
    "    \"xxxxx xxxxx\",\n",
    "    \"xxxxx xxxxx\",\n",
    "    \"xxxxx xxxxx\",\n",
    "    \"xxxxx xxxxx\",\n",
    "    \"x         x\",\n",
    "    \"xxxxxxxxxxx\",\n",
    "    \n",
    "]\n",
    "\n",
    "end = [(1, 5), (2, 5)]"
   ]
  },
  {
   "cell_type": "code",
   "execution_count": 26,
   "id": "7d6dbc2d",
   "metadata": {},
   "outputs": [],
   "source": [
    "a = stage.Agent(5, 1, bg.red, fg.red)\n",
    "b = stage.Agent(5, 9, bg.blue, fg.blue)\n",
    "interChage_2aONE = stage.Environment(setup_4, [a, b], end)"
   ]
  },
  {
   "cell_type": "code",
   "execution_count": 27,
   "id": "f2e721f3",
   "metadata": {},
   "outputs": [
    {
     "name": "stdout",
     "output_type": "stream",
     "text": [
      "     -     \n",
      "    |\u001b[31mx\u001b[39m|    \n",
      "    |\u001b[34mx\u001b[39m|    \n",
      "    | |    \n",
      " ---+ +--- \n",
      "|\u001b[41m \u001b[49m       \u001b[44m \u001b[49m|\n",
      " --------- \n"
     ]
    }
   ],
   "source": [
    "print(interChage_2aONE.render())"
   ]
  },
  {
   "cell_type": "code",
   "execution_count": 42,
   "id": "3434d0d5",
   "metadata": {},
   "outputs": [],
   "source": [
    "interChage_a2ONE_ML = ma.MeanField(interChage_2aONE)"
   ]
  },
  {
   "cell_type": "code",
   "execution_count": 43,
   "id": "bfadcaa4",
   "metadata": {},
   "outputs": [
    {
     "name": "stdout",
     "output_type": "stream",
     "text": [
      "Episode: 9900\n",
      "Time: 1001.0\n",
      "Training Finished!\n"
     ]
    }
   ],
   "source": [
    "interChage_a2ONE_ML.train(alpha=0.1, epochs=10_000, cap=1_000, gamma= 1)"
   ]
  },
  {
   "cell_type": "code",
   "execution_count": 37,
   "id": "293bf7ac",
   "metadata": {},
   "outputs": [
    {
     "name": "stdout",
     "output_type": "stream",
     "text": [
      "     -     \n",
      "    |\u001b[31mx\u001b[39m|    \n",
      "    |\u001b[44m\u001b[34mx\u001b[39m\u001b[49m|    \n",
      "    | |    \n",
      " ---+\u001b[41m \u001b[49m+--- \n",
      "|         |\n",
      " --------- \n"
     ]
    },
    {
     "ename": "KeyboardInterrupt",
     "evalue": "",
     "output_type": "error",
     "traceback": [
      "\u001b[0;31m---------------------------------------------------------------------------\u001b[0m",
      "\u001b[0;31mKeyboardInterrupt\u001b[0m                         Traceback (most recent call last)",
      "Input \u001b[0;32mIn [37]\u001b[0m, in \u001b[0;36m<cell line: 1>\u001b[0;34m()\u001b[0m\n\u001b[0;32m----> 1\u001b[0m \u001b[43minterChage_a2ONE_ML\u001b[49m\u001b[38;5;241;43m.\u001b[39;49m\u001b[43mshow\u001b[49m\u001b[43m(\u001b[49m\u001b[43mcap\u001b[49m\u001b[38;5;241;43m=\u001b[39;49m\u001b[38;5;241;43m200\u001b[39;49m\u001b[43m)\u001b[49m\n",
      "File \u001b[0;32m<string>:101\u001b[0m, in \u001b[0;36mshow\u001b[0;34m(self, cap, epsilon)\u001b[0m\n",
      "File \u001b[0;32m<string>:5\u001b[0m, in \u001b[0;36mprint_frames\u001b[0;34m(frames)\u001b[0m\n",
      "\u001b[0;31mKeyboardInterrupt\u001b[0m: "
     ]
    }
   ],
   "source": [
    "interChage_a2ONE_ML.show(cap=200)"
   ]
  },
  {
   "cell_type": "markdown",
   "id": "5812d4d6",
   "metadata": {},
   "source": [
    "## 3 agent"
   ]
  },
  {
   "cell_type": "code",
   "execution_count": 2,
   "id": "7fc4c90b",
   "metadata": {},
   "outputs": [],
   "source": [
    "setup_5 = [\n",
    "    \"xxxxxxxxxxx\",\n",
    "    \"xxxxx xxxxx\",\n",
    "    \"xxxxx xxxxx\",\n",
    "    \"xxxxx xxxxx\",\n",
    "    \"xxxxx xxxxx\",\n",
    "    \"x         x\",\n",
    "    \"xxxxxxxxxxx\",\n",
    "]\n",
    "\n",
    "end = [(1, 5), (5, 1), (5, 9)]"
   ]
  },
  {
   "cell_type": "code",
   "execution_count": 3,
   "id": "4ce92a8c",
   "metadata": {},
   "outputs": [],
   "source": [
    "a = stage.Agent(5, 1, bg.red, fg.red)\n",
    "b = stage.Agent(5, 9, bg.blue, fg.blue)\n",
    "c = stage.Agent(1, 5, bg.green, fg.green)\n",
    "agent_3 = stage.Environment(setup_5, [a, b, c], end)"
   ]
  },
  {
   "cell_type": "code",
   "execution_count": 4,
   "id": "3b7dda38",
   "metadata": {},
   "outputs": [
    {
     "name": "stdout",
     "output_type": "stream",
     "text": [
      "     -     \n",
      "    |\u001b[42m\u001b[31mx\u001b[39m\u001b[49m|    \n",
      "    | |    \n",
      "    | |    \n",
      " ---+ +--- \n",
      "|\u001b[41m\u001b[34mx\u001b[39m\u001b[49m       \u001b[44m\u001b[32mx\u001b[39m\u001b[49m|\n",
      " --------- \n"
     ]
    }
   ],
   "source": [
    "print(agent_3.render())"
   ]
  },
  {
   "cell_type": "code",
   "execution_count": 5,
   "id": "a9c81fe2",
   "metadata": {},
   "outputs": [],
   "source": [
    "three_agent_bot = ma.MeanField(agent_3)"
   ]
  },
  {
   "cell_type": "code",
   "execution_count": 13,
   "id": "83d7f883",
   "metadata": {},
   "outputs": [
    {
     "name": "stdout",
     "output_type": "stream",
     "text": [
      "Episode: 39900\n",
      "Time: 35.37\n",
      "Training Finished!\n"
     ]
    }
   ],
   "source": [
    "three_agent_bot.train(alpha=0.1, epochs=50_000, cap=20_000,epsilon = 0.3)"
   ]
  },
  {
   "cell_type": "code",
   "execution_count": 76,
   "id": "db0c33ac",
   "metadata": {},
   "outputs": [
    {
     "name": "stdout",
     "output_type": "stream",
     "text": [
      "     -     \n",
      "    |\u001b[41m\u001b[31mx\u001b[39m\u001b[49m|    \n",
      "    | |    \n",
      "    | |    \n",
      " ---+ +--- \n",
      "|\u001b[44m\u001b[34mx\u001b[39m\u001b[49m       \u001b[42m\u001b[32mx\u001b[39m\u001b[49m|\n",
      " --------- \n"
     ]
    }
   ],
   "source": [
    "three_agent_bot.show(epsilon=0)"
   ]
  },
  {
   "cell_type": "markdown",
   "id": "341556ba",
   "metadata": {},
   "source": [
    "## 4 Agent"
   ]
  },
  {
   "cell_type": "code",
   "execution_count": 19,
   "id": "38148b88",
   "metadata": {},
   "outputs": [],
   "source": [
    "setup_6 = [\n",
    "    \"xxxxxxxxxxx\",\n",
    "    \"xxxxx xxxxx\",\n",
    "    \"xxxxx xxxxx\",\n",
    "    \"xxxxx xxxxx\",\n",
    "    \"xxxxx xxxxx\",\n",
    "    \"x         x\",\n",
    "    \"xxxxx xxxxx\",\n",
    "    \"xxxxx xxxxx\",\n",
    "    \"xxxxx xxxxx\",\n",
    "    \"xxxxx xxxxx\",\n",
    "    \"xxxxxxxxxxx\",\n",
    "]\n",
    "\n",
    "end = [(1, 5), (5, 1), (9, 5), (5, 9)]"
   ]
  },
  {
   "cell_type": "code",
   "execution_count": 20,
   "id": "db5f1d07",
   "metadata": {},
   "outputs": [],
   "source": [
    "a = stage.Agent(5, 1, bg.red, fg.red)\n",
    "b = stage.Agent(5, 9, bg.blue, fg.blue)\n",
    "c = stage.Agent(1, 5, bg.green, fg.green)\n",
    "d = stage.Agent(9, 5, bg.yellow, fg.yellow)\n",
    "agent_4 = stage.Environment(setup_6, [a, b, c, d], end)"
   ]
  },
  {
   "cell_type": "code",
   "execution_count": 21,
   "id": "45018156",
   "metadata": {},
   "outputs": [
    {
     "name": "stdout",
     "output_type": "stream",
     "text": [
      "     -     \n",
      "    |\u001b[42m\u001b[31mx\u001b[39m\u001b[49m|    \n",
      "    | |    \n",
      "    | |    \n",
      " ---+ +--- \n",
      "|\u001b[41m\u001b[34mx\u001b[39m\u001b[49m       \u001b[44m\u001b[33mx\u001b[39m\u001b[49m|\n",
      " ---+ +--- \n",
      "    | |    \n",
      "    | |    \n",
      "    |\u001b[43m\u001b[32mx\u001b[39m\u001b[49m|    \n",
      "     -     \n"
     ]
    }
   ],
   "source": [
    "print(agent_4.render())"
   ]
  },
  {
   "cell_type": "code",
   "execution_count": 22,
   "id": "457f3bf6",
   "metadata": {},
   "outputs": [],
   "source": [
    "four_agent = ma.MeanField(agent_4)"
   ]
  },
  {
   "cell_type": "code",
   "execution_count": 35,
   "id": "90550ad8",
   "metadata": {},
   "outputs": [
    {
     "name": "stdout",
     "output_type": "stream",
     "text": [
      "Episode: 5200\n",
      "Time: 79.71\n"
     ]
    },
    {
     "ename": "KeyboardInterrupt",
     "evalue": "",
     "output_type": "error",
     "traceback": [
      "\u001b[0;31m---------------------------------------------------------------------------\u001b[0m",
      "\u001b[0;31mKeyboardInterrupt\u001b[0m                         Traceback (most recent call last)",
      "Input \u001b[0;32mIn [35]\u001b[0m, in \u001b[0;36m<cell line: 1>\u001b[0;34m()\u001b[0m\n\u001b[0;32m----> 1\u001b[0m \u001b[43mfour_agent\u001b[49m\u001b[38;5;241;43m.\u001b[39;49m\u001b[43mtrain\u001b[49m\u001b[43m(\u001b[49m\u001b[43malpha\u001b[49m\u001b[38;5;241;43m=\u001b[39;49m\u001b[38;5;241;43m0.1\u001b[39;49m\u001b[43m,\u001b[49m\u001b[43m \u001b[49m\u001b[43mepochs\u001b[49m\u001b[38;5;241;43m=\u001b[39;49m\u001b[38;5;241;43m100_000\u001b[39;49m\u001b[43m,\u001b[49m\u001b[43m \u001b[49m\u001b[43mcap\u001b[49m\u001b[38;5;241;43m=\u001b[39;49m\u001b[38;5;241;43m20_000\u001b[39;49m\u001b[43m,\u001b[49m\u001b[43mepsilon\u001b[49m\u001b[43m \u001b[49m\u001b[38;5;241;43m=\u001b[39;49m\u001b[43m \u001b[49m\u001b[38;5;241;43m0.3\u001b[39;49m\u001b[43m)\u001b[49m\n",
      "File \u001b[0;32m<string>:51\u001b[0m, in \u001b[0;36mtrain\u001b[0;34m(self, alpha, gamma, epsilon, epochs, cap)\u001b[0m\n",
      "File \u001b[0;32m<string>:108\u001b[0m, in \u001b[0;36mreward\u001b[0;34m(self, agent)\u001b[0m\n",
      "\u001b[0;31mKeyboardInterrupt\u001b[0m: "
     ]
    }
   ],
   "source": [
    "four_agent.train(alpha=0.1, epochs=300_000, cap=20_000,epsilon = 0.3)"
   ]
  },
  {
   "cell_type": "code",
   "execution_count": 87,
   "id": "706e4aa5",
   "metadata": {},
   "outputs": [
    {
     "name": "stdout",
     "output_type": "stream",
     "text": [
      "     -     \n",
      "    |\u001b[41m\u001b[31mx\u001b[39m\u001b[49m|    \n",
      "    | |    \n",
      "    | |    \n",
      " ---+ +--- \n",
      "|\u001b[44m\u001b[34mx\u001b[39m\u001b[49m       \u001b[43m\u001b[33mx\u001b[39m\u001b[49m|\n",
      " ---+ +--- \n",
      "    | |    \n",
      "    | |    \n",
      "    |\u001b[42m\u001b[32mx\u001b[39m\u001b[49m|    \n",
      "     -     \n"
     ]
    }
   ],
   "source": [
    "four_agent.show(epsilon=0)"
   ]
  },
  {
   "cell_type": "code",
   "execution_count": null,
   "id": "159d0622",
   "metadata": {},
   "outputs": [],
   "source": []
  }
 ],
 "metadata": {
  "kernelspec": {
   "display_name": "Python 3 (ipykernel)",
   "language": "python",
   "name": "python3"
  },
  "language_info": {
   "codemirror_mode": {
    "name": "ipython",
    "version": 3
   },
   "file_extension": ".py",
   "mimetype": "text/x-python",
   "name": "python",
   "nbconvert_exporter": "python",
   "pygments_lexer": "ipython3",
   "version": "3.10.3"
  }
 },
 "nbformat": 4,
 "nbformat_minor": 5
}
