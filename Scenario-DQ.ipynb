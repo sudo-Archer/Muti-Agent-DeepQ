{
 "cells": [
  {
   "cell_type": "code",
   "execution_count": 1,
   "id": "b53b0c5b",
   "metadata": {},
   "outputs": [
    {
     "name": "stdout",
     "output_type": "stream",
     "text": [
      "importing Jupyter notebook from stage.ipynb\n",
      "importing Jupyter notebook from DQL.ipynb\n"
     ]
    }
   ],
   "source": [
    "import import_ipynb\n",
    "import stage\n",
    "from DQL import DeepQLearn, Agent\n",
    "import numpy as np\n",
    "from IPython.display import clear_output\n",
    "from sty import fg, bg, ef, rs\n",
    "import random\n",
    "import matplotlib.pyplot as plt"
   ]
  },
  {
   "cell_type": "markdown",
   "id": "9c60985b",
   "metadata": {},
   "source": [
    "# Simple set up"
   ]
  },
  {
   "cell_type": "code",
   "execution_count": 2,
   "id": "517b8c18",
   "metadata": {},
   "outputs": [],
   "source": [
    "setup_1 = [\n",
    "    \"xxxxxxxxxx\",\n",
    "    \"xxxxxxxxxx\",\n",
    "    \"x        x\",\n",
    "    \"xxxxxxxxxx\",\n",
    "    \n",
    "]\n",
    "\n",
    "end_1 = [(2, 8)]"
   ]
  },
  {
   "cell_type": "code",
   "execution_count": 3,
   "id": "d7c37a59",
   "metadata": {},
   "outputs": [],
   "source": [
    "agentx = Agent(lr = 0.01,  gamma=0.99, epsilon=1.0, batch_size=64, n_actions=5,\n",
    "                 eps_end=0.01, input_dims=[8])"
   ]
  },
  {
   "cell_type": "code",
   "execution_count": 4,
   "id": "746409c3",
   "metadata": {},
   "outputs": [],
   "source": [
    "a = stage.Agent(2, 1, bg.red, fg.red)\n",
    "siglePlay = stage.Environment(setup_1, [a],end_1)"
   ]
  },
  {
   "cell_type": "code",
   "execution_count": 5,
   "id": "d0858b78",
   "metadata": {},
   "outputs": [
    {
     "name": "stdout",
     "output_type": "stream",
     "text": [
      "          \n",
      " -------- \n",
      "|\u001b[41m \u001b[49m      \u001b[31mx\u001b[39m|\n",
      " -------- \n"
     ]
    }
   ],
   "source": [
    "print(siglePlay.render())"
   ]
  },
  {
   "cell_type": "code",
   "execution_count": 6,
   "id": "d6137e70",
   "metadata": {},
   "outputs": [],
   "source": [
    "siglePlayDQ = DeepQLearn(siglePlay, [agentx])"
   ]
  },
  {
   "cell_type": "code",
   "execution_count": 7,
   "id": "fb3ff158",
   "metadata": {},
   "outputs": [
    {
     "name": "stdout",
     "output_type": "stream",
     "text": [
      "episode 0 score -167.00 averaeg score -167.00 epsilon 0.94\n",
      "episode 1 score -100.00 averaeg score -133.50 epsilon 0.89\n",
      "episode 2 score -305.00 averaeg score -190.67 epsilon 0.73\n",
      "episode 3 score -11.00 averaeg score -145.75 epsilon 0.72\n",
      "episode 4 score -11.00 averaeg score -118.80 epsilon 0.71\n",
      "episode 5 score -2001.00 averaeg score -432.50 epsilon 0.01\n",
      "episode 6 score -1065.00 averaeg score -522.86 epsilon 0.01\n",
      "episode 7 score -176.00 averaeg score -479.50 epsilon 0.01\n",
      "episode 8 score 2.00 averaeg score -426.00 epsilon 0.01\n",
      "episode 9 score 4.00 averaeg score -383.00 epsilon 0.01\n",
      "episode 10 score 4.00 averaeg score -347.82 epsilon 0.01\n",
      "episode 11 score 4.00 averaeg score -318.50 epsilon 0.01\n",
      "episode 12 score 4.00 averaeg score -293.69 epsilon 0.01\n",
      "episode 13 score 4.00 averaeg score -272.43 epsilon 0.01\n",
      "episode 14 score 4.00 averaeg score -254.00 epsilon 0.01\n",
      "episode 15 score 4.00 averaeg score -237.88 epsilon 0.01\n",
      "episode 16 score 4.00 averaeg score -223.65 epsilon 0.01\n",
      "episode 17 score 4.00 averaeg score -211.00 epsilon 0.01\n",
      "episode 18 score 4.00 averaeg score -199.68 epsilon 0.01\n",
      "episode 19 score 4.00 averaeg score -189.50 epsilon 0.01\n",
      "episode 20 score 4.00 averaeg score -180.29 epsilon 0.01\n",
      "episode 21 score 4.00 averaeg score -171.91 epsilon 0.01\n",
      "episode 22 score 4.00 averaeg score -164.26 epsilon 0.01\n",
      "episode 23 score 4.00 averaeg score -157.25 epsilon 0.01\n",
      "episode 24 score 4.00 averaeg score -150.80 epsilon 0.01\n",
      "episode 25 score 4.00 averaeg score -144.85 epsilon 0.01\n",
      "episode 26 score 4.00 averaeg score -139.33 epsilon 0.01\n",
      "episode 27 score 4.00 averaeg score -134.21 epsilon 0.01\n",
      "episode 28 score 4.00 averaeg score -129.45 epsilon 0.01\n",
      "episode 29 score 3.00 averaeg score -125.03 epsilon 0.01\n",
      "episode 30 score 4.00 averaeg score -120.87 epsilon 0.01\n",
      "episode 31 score 4.00 averaeg score -116.97 epsilon 0.01\n",
      "episode 32 score 4.00 averaeg score -113.30 epsilon 0.01\n",
      "episode 33 score 4.00 averaeg score -109.85 epsilon 0.01\n",
      "episode 34 score 4.00 averaeg score -106.60 epsilon 0.01\n",
      "episode 35 score 4.00 averaeg score -103.53 epsilon 0.01\n",
      "episode 36 score 4.00 averaeg score -100.62 epsilon 0.01\n",
      "episode 37 score 4.00 averaeg score -97.87 epsilon 0.01\n",
      "episode 38 score 4.00 averaeg score -95.26 epsilon 0.01\n",
      "episode 39 score 4.00 averaeg score -92.78 epsilon 0.01\n",
      "episode 40 score 4.00 averaeg score -90.41 epsilon 0.01\n",
      "episode 41 score 3.00 averaeg score -88.19 epsilon 0.01\n",
      "episode 42 score 4.00 averaeg score -86.05 epsilon 0.01\n",
      "episode 43 score 4.00 averaeg score -84.00 epsilon 0.01\n",
      "episode 44 score 4.00 averaeg score -82.04 epsilon 0.01\n",
      "episode 45 score 4.00 averaeg score -80.17 epsilon 0.01\n",
      "episode 46 score 4.00 averaeg score -78.38 epsilon 0.01\n",
      "episode 47 score 4.00 averaeg score -76.67 epsilon 0.01\n",
      "episode 48 score 4.00 averaeg score -75.02 epsilon 0.01\n",
      "episode 49 score 4.00 averaeg score -73.44 epsilon 0.01\n",
      "episode 50 score 4.00 averaeg score -71.92 epsilon 0.01\n",
      "episode 51 score 4.00 averaeg score -70.46 epsilon 0.01\n",
      "episode 52 score 4.00 averaeg score -69.06 epsilon 0.01\n",
      "episode 53 score 4.00 averaeg score -67.70 epsilon 0.01\n",
      "episode 54 score 4.00 averaeg score -66.40 epsilon 0.01\n",
      "episode 55 score 4.00 averaeg score -65.14 epsilon 0.01\n",
      "episode 56 score 4.00 averaeg score -63.93 epsilon 0.01\n",
      "episode 57 score 4.00 averaeg score -62.76 epsilon 0.01\n",
      "episode 58 score 4.00 averaeg score -61.63 epsilon 0.01\n",
      "episode 59 score 4.00 averaeg score -60.53 epsilon 0.01\n",
      "episode 60 score 3.00 averaeg score -59.49 epsilon 0.01\n",
      "episode 61 score 4.00 averaeg score -58.47 epsilon 0.01\n",
      "episode 62 score 4.00 averaeg score -57.48 epsilon 0.01\n",
      "episode 63 score 4.00 averaeg score -56.52 epsilon 0.01\n",
      "episode 64 score 4.00 averaeg score -55.58 epsilon 0.01\n",
      "episode 65 score 4.00 averaeg score -54.68 epsilon 0.01\n",
      "episode 66 score 2.00 averaeg score -53.84 epsilon 0.01\n",
      "episode 67 score -353.00 averaeg score -58.24 epsilon 0.01\n",
      "episode 68 score -791.00 averaeg score -68.86 epsilon 0.01\n",
      "episode 69 score -515.00 averaeg score -75.23 epsilon 0.01\n",
      "episode 70 score -1355.00 averaeg score -93.25 epsilon 0.01\n",
      "episode 71 score -8.00 averaeg score -92.07 epsilon 0.01\n",
      "episode 72 score -1.00 averaeg score -90.82 epsilon 0.01\n",
      "episode 73 score 4.00 averaeg score -89.54 epsilon 0.01\n",
      "episode 74 score 4.00 averaeg score -88.29 epsilon 0.01\n",
      "episode 75 score 4.00 averaeg score -87.08 epsilon 0.01\n",
      "episode 76 score 4.00 averaeg score -85.90 epsilon 0.01\n",
      "episode 77 score 4.00 averaeg score -84.74 epsilon 0.01\n",
      "episode 78 score 4.00 averaeg score -83.62 epsilon 0.01\n",
      "episode 79 score 4.00 averaeg score -82.53 epsilon 0.01\n",
      "episode 80 score 4.00 averaeg score -81.46 epsilon 0.01\n",
      "episode 81 score 4.00 averaeg score -80.41 epsilon 0.01\n",
      "episode 82 score 4.00 averaeg score -79.40 epsilon 0.01\n",
      "episode 83 score 4.00 averaeg score -78.40 epsilon 0.01\n",
      "episode 84 score 4.00 averaeg score -77.44 epsilon 0.01\n",
      "episode 85 score 4.00 averaeg score -76.49 epsilon 0.01\n",
      "episode 86 score 4.00 averaeg score -75.56 epsilon 0.01\n",
      "episode 87 score 4.00 averaeg score -74.66 epsilon 0.01\n",
      "episode 88 score 4.00 averaeg score -73.78 epsilon 0.01\n",
      "episode 89 score 3.00 averaeg score -72.92 epsilon 0.01\n",
      "episode 90 score 4.00 averaeg score -72.08 epsilon 0.01\n",
      "episode 91 score 4.00 averaeg score -71.25 epsilon 0.01\n",
      "episode 92 score 4.00 averaeg score -70.44 epsilon 0.01\n",
      "episode 93 score 4.00 averaeg score -69.65 epsilon 0.01\n",
      "episode 94 score 4.00 averaeg score -68.87 epsilon 0.01\n",
      "episode 95 score 4.00 averaeg score -68.11 epsilon 0.01\n",
      "episode 96 score 4.00 averaeg score -67.37 epsilon 0.01\n",
      "episode 97 score 4.00 averaeg score -66.64 epsilon 0.01\n",
      "episode 98 score 4.00 averaeg score -65.93 epsilon 0.01\n",
      "episode 99 score 4.00 averaeg score -65.23 epsilon 0.01\n"
     ]
    }
   ],
   "source": [
    "siglePlayDQ.train(2_000, 100)"
   ]
  },
  {
   "cell_type": "code",
   "execution_count": 8,
   "id": "d4589c23",
   "metadata": {},
   "outputs": [
    {
     "name": "stdout",
     "output_type": "stream",
     "text": [
      "          \n",
      " -------- \n",
      "|       \u001b[41m\u001b[31mx\u001b[39m\u001b[49m|\n",
      " -------- \n"
     ]
    }
   ],
   "source": [
    "siglePlayDQ.show()"
   ]
  },
  {
   "cell_type": "markdown",
   "id": "e79b3893",
   "metadata": {},
   "source": [
    "# Gernaral Test"
   ]
  },
  {
   "cell_type": "code",
   "execution_count": 9,
   "id": "34c630fa",
   "metadata": {},
   "outputs": [],
   "source": [
    "big_squre = [\n",
    "    \n",
    "    \"xxxxxxxxxx\",\n",
    "    \"x        x\",\n",
    "    \"x        x\",\n",
    "    \"x        x\",\n",
    "    \"x        x\",\n",
    "    \"x        x\",\n",
    "    \"x        x\",\n",
    "    \"x        x\",\n",
    "    \"x        x\",\n",
    "    \"xxxxxxxxxx\",\n",
    "    \n",
    "]"
   ]
  },
  {
   "cell_type": "code",
   "execution_count": 25,
   "id": "c10971f3",
   "metadata": {},
   "outputs": [],
   "source": [
    "agent_a = Agent(lr = 0.01,  gamma=0.99, epsilon=1.0, batch_size=64, n_actions=5,\n",
    "                 eps_end=0.01, input_dims=[8], eps_dec=0.00005)"
   ]
  },
  {
   "cell_type": "code",
   "execution_count": 29,
   "id": "0245eee8",
   "metadata": {},
   "outputs": [
    {
     "name": "stdout",
     "output_type": "stream",
     "text": [
      "episode 0 score -5001.00 averaeg score -5001.00 epsilon 0.25\n"
     ]
    },
    {
     "ename": "KeyboardInterrupt",
     "evalue": "",
     "output_type": "error",
     "traceback": [
      "\u001b[0;31m---------------------------------------------------------------------------\u001b[0m",
      "\u001b[0;31mKeyboardInterrupt\u001b[0m                         Traceback (most recent call last)",
      "Input \u001b[0;32mIn [29]\u001b[0m, in \u001b[0;36m<cell line: 2>\u001b[0;34m()\u001b[0m\n\u001b[1;32m      7\u001b[0m gernaral_test \u001b[38;5;241m=\u001b[39m stage\u001b[38;5;241m.\u001b[39mEnvironment(big_squre, [env_agent], [end_point])\n\u001b[1;32m      8\u001b[0m gernaral_DQ \u001b[38;5;241m=\u001b[39m DeepQLearn(gernaral_test, [agent_a])\n\u001b[0;32m----> 9\u001b[0m \u001b[43mgernaral_DQ\u001b[49m\u001b[38;5;241;43m.\u001b[39;49m\u001b[43mtrain\u001b[49m\u001b[43m(\u001b[49m\u001b[38;5;241;43m5000\u001b[39;49m\u001b[43m,\u001b[49m\u001b[43m \u001b[49m\u001b[38;5;241;43m500\u001b[39;49m\u001b[43m)\u001b[49m\n\u001b[1;32m     10\u001b[0m games\u001b[38;5;241m.\u001b[39mappend(gernaral_DQ\u001b[38;5;241m.\u001b[39mplay(\u001b[38;5;241m200\u001b[39m))\n",
      "File \u001b[0;32m<string>:26\u001b[0m, in \u001b[0;36mtrain\u001b[0;34m(self, cap, episodes)\u001b[0m\n",
      "File \u001b[0;32m<string>:69\u001b[0m, in \u001b[0;36mlearn\u001b[0;34m(self)\u001b[0m\n",
      "File \u001b[0;32m~/.local/lib/python3.10/site-packages/torch/_tensor.py:363\u001b[0m, in \u001b[0;36mTensor.backward\u001b[0;34m(self, gradient, retain_graph, create_graph, inputs)\u001b[0m\n\u001b[1;32m    354\u001b[0m \u001b[38;5;28;01mif\u001b[39;00m has_torch_function_unary(\u001b[38;5;28mself\u001b[39m):\n\u001b[1;32m    355\u001b[0m     \u001b[38;5;28;01mreturn\u001b[39;00m handle_torch_function(\n\u001b[1;32m    356\u001b[0m         Tensor\u001b[38;5;241m.\u001b[39mbackward,\n\u001b[1;32m    357\u001b[0m         (\u001b[38;5;28mself\u001b[39m,),\n\u001b[0;32m   (...)\u001b[0m\n\u001b[1;32m    361\u001b[0m         create_graph\u001b[38;5;241m=\u001b[39mcreate_graph,\n\u001b[1;32m    362\u001b[0m         inputs\u001b[38;5;241m=\u001b[39minputs)\n\u001b[0;32m--> 363\u001b[0m \u001b[43mtorch\u001b[49m\u001b[38;5;241;43m.\u001b[39;49m\u001b[43mautograd\u001b[49m\u001b[38;5;241;43m.\u001b[39;49m\u001b[43mbackward\u001b[49m\u001b[43m(\u001b[49m\u001b[38;5;28;43mself\u001b[39;49m\u001b[43m,\u001b[49m\u001b[43m \u001b[49m\u001b[43mgradient\u001b[49m\u001b[43m,\u001b[49m\u001b[43m \u001b[49m\u001b[43mretain_graph\u001b[49m\u001b[43m,\u001b[49m\u001b[43m \u001b[49m\u001b[43mcreate_graph\u001b[49m\u001b[43m,\u001b[49m\u001b[43m \u001b[49m\u001b[43minputs\u001b[49m\u001b[38;5;241;43m=\u001b[39;49m\u001b[43minputs\u001b[49m\u001b[43m)\u001b[49m\n",
      "File \u001b[0;32m~/.local/lib/python3.10/site-packages/torch/autograd/__init__.py:173\u001b[0m, in \u001b[0;36mbackward\u001b[0;34m(tensors, grad_tensors, retain_graph, create_graph, grad_variables, inputs)\u001b[0m\n\u001b[1;32m    168\u001b[0m     retain_graph \u001b[38;5;241m=\u001b[39m create_graph\n\u001b[1;32m    170\u001b[0m \u001b[38;5;66;03m# The reason we repeat same the comment below is that\u001b[39;00m\n\u001b[1;32m    171\u001b[0m \u001b[38;5;66;03m# some Python versions print out the first line of a multi-line function\u001b[39;00m\n\u001b[1;32m    172\u001b[0m \u001b[38;5;66;03m# calls in the traceback and some print out the last line\u001b[39;00m\n\u001b[0;32m--> 173\u001b[0m \u001b[43mVariable\u001b[49m\u001b[38;5;241;43m.\u001b[39;49m\u001b[43m_execution_engine\u001b[49m\u001b[38;5;241;43m.\u001b[39;49m\u001b[43mrun_backward\u001b[49m\u001b[43m(\u001b[49m\u001b[43m  \u001b[49m\u001b[38;5;66;43;03m# Calls into the C++ engine to run the backward pass\u001b[39;49;00m\n\u001b[1;32m    174\u001b[0m \u001b[43m    \u001b[49m\u001b[43mtensors\u001b[49m\u001b[43m,\u001b[49m\u001b[43m \u001b[49m\u001b[43mgrad_tensors_\u001b[49m\u001b[43m,\u001b[49m\u001b[43m \u001b[49m\u001b[43mretain_graph\u001b[49m\u001b[43m,\u001b[49m\u001b[43m \u001b[49m\u001b[43mcreate_graph\u001b[49m\u001b[43m,\u001b[49m\u001b[43m \u001b[49m\u001b[43minputs\u001b[49m\u001b[43m,\u001b[49m\n\u001b[1;32m    175\u001b[0m \u001b[43m    \u001b[49m\u001b[43mallow_unreachable\u001b[49m\u001b[38;5;241;43m=\u001b[39;49m\u001b[38;5;28;43;01mTrue\u001b[39;49;00m\u001b[43m,\u001b[49m\u001b[43m \u001b[49m\u001b[43maccumulate_grad\u001b[49m\u001b[38;5;241;43m=\u001b[39;49m\u001b[38;5;28;43;01mTrue\u001b[39;49;00m\u001b[43m)\u001b[49m\n",
      "\u001b[0;31mKeyboardInterrupt\u001b[0m: "
     ]
    }
   ],
   "source": [
    "games = []\n",
    "for i in range(50):\n",
    "    agent_a.epsilon = 0.2\n",
    "    start_point = (np.random.randint(1, 9), np.random.randint(1, 9))\n",
    "    end_point = (np.random.randint(1, 9), np.random.randint(1, 9))\n",
    "    env_agent = stage.Agent(start_point[0], start_point[1], bg.red, fg.red)\n",
    "    gernaral_test = stage.Environment(big_squre, [env_agent], [end_point])\n",
    "    gernaral_DQ = DeepQLearn(gernaral_test, [agent_a])\n",
    "    gernaral_DQ.train(5000, 500)\n",
    "    games.append(gernaral_DQ.play(200))"
   ]
  },
  {
   "cell_type": "code",
   "execution_count": 18,
   "id": "c495034d",
   "metadata": {},
   "outputs": [
    {
     "name": "stdout",
     "output_type": "stream",
     "text": [
      " -------- \n",
      "|        |\n",
      "|        |\n",
      "|        |\n",
      "|    \u001b[41m\u001b[31mx\u001b[39m\u001b[49m   |\n",
      "|        |\n",
      "|        |\n",
      "|        |\n",
      "|        |\n",
      " -------- \n"
     ]
    }
   ],
   "source": [
    "stage.print_frames(games[-1])"
   ]
  },
  {
   "cell_type": "code",
   "execution_count": null,
   "id": "30cbe0c5",
   "metadata": {},
   "outputs": [],
   "source": []
  }
 ],
 "metadata": {
  "kernelspec": {
   "display_name": "Python 3 (ipykernel)",
   "language": "python",
   "name": "python3"
  },
  "language_info": {
   "codemirror_mode": {
    "name": "ipython",
    "version": 3
   },
   "file_extension": ".py",
   "mimetype": "text/x-python",
   "name": "python",
   "nbconvert_exporter": "python",
   "pygments_lexer": "ipython3",
   "version": "3.10.3"
  }
 },
 "nbformat": 4,
 "nbformat_minor": 5
}
