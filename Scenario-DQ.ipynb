{
 "cells": [
  {
   "cell_type": "code",
   "execution_count": 1,
   "id": "b53b0c5b",
   "metadata": {},
   "outputs": [
    {
     "name": "stdout",
     "output_type": "stream",
     "text": [
      "importing Jupyter notebook from stage.ipynb\n",
      "importing Jupyter notebook from DQL.ipynb\n"
     ]
    }
   ],
   "source": [
    "import import_ipynb\n",
    "import stage\n",
    "from DQL import DeepQLearn, Agent\n",
    "import numpy as np\n",
    "from IPython.display import clear_output\n",
    "from sty import fg, bg, ef, rs\n",
    "import random\n",
    "import matplotlib.pyplot as plt"
   ]
  },
  {
   "cell_type": "markdown",
   "id": "9c60985b",
   "metadata": {},
   "source": [
    "# Simple set up"
   ]
  },
  {
   "cell_type": "markdown",
   "id": "6bf1f8c3",
   "metadata": {},
   "source": [
    "### Going to the right"
   ]
  },
  {
   "cell_type": "code",
   "execution_count": 2,
   "id": "517b8c18",
   "metadata": {},
   "outputs": [],
   "source": [
    "setup_1 = [\n",
    "    \"xxxxxxxxxx\",\n",
    "    \"xxxxxxxxxx\",\n",
    "    \"x        x\",\n",
    "    \"xxxxxxxxxx\",\n",
    "    \n",
    "]\n",
    "\n",
    "end_1 = [(2, 8)]"
   ]
  },
  {
   "cell_type": "code",
   "execution_count": 3,
   "id": "d7c37a59",
   "metadata": {},
   "outputs": [],
   "source": [
    "agentx = Agent(lr = 0.01,  gamma=0.99, epsilon=1.0, batch_size=64, n_actions=5,\n",
    "                 eps_end=0.01, input_dims=[8])"
   ]
  },
  {
   "cell_type": "code",
   "execution_count": 4,
   "id": "746409c3",
   "metadata": {},
   "outputs": [],
   "source": [
    "a = stage.Agent(2, 1, bg.red, fg.red)\n",
    "siglePlay = stage.Environment(setup_1, [a],end_1)"
   ]
  },
  {
   "cell_type": "code",
   "execution_count": 5,
   "id": "d0858b78",
   "metadata": {},
   "outputs": [
    {
     "name": "stdout",
     "output_type": "stream",
     "text": [
      "          \n",
      " -------- \n",
      "|\u001b[41m \u001b[49m      \u001b[31mx\u001b[39m|\n",
      " -------- \n"
     ]
    }
   ],
   "source": [
    "print(siglePlay.render())"
   ]
  },
  {
   "cell_type": "code",
   "execution_count": 6,
   "id": "d6137e70",
   "metadata": {},
   "outputs": [],
   "source": [
    "siglePlayDQ = DeepQLearn(siglePlay, [agentx])"
   ]
  },
  {
   "cell_type": "code",
   "execution_count": 7,
   "id": "fb3ff158",
   "metadata": {},
   "outputs": [
    {
     "name": "stdout",
     "output_type": "stream",
     "text": [
      "episode 0 score -25.00 averaeg score -25.00 epsilon 1.00\n",
      "episode 1 score -41.00 averaeg score -33.00 epsilon 0.99\n",
      "episode 2 score -33.00 averaeg score -33.00 epsilon 0.97\n",
      "episode 3 score -11.00 averaeg score -27.50 epsilon 0.95\n",
      "episode 4 score -13.00 averaeg score -24.60 epsilon 0.94\n",
      "episode 5 score -12.00 averaeg score -22.50 epsilon 0.93\n",
      "episode 6 score -36.00 averaeg score -24.43 epsilon 0.91\n",
      "episode 7 score -1.00 averaeg score -21.50 epsilon 0.90\n",
      "episode 8 score -28.00 averaeg score -22.22 epsilon 0.88\n",
      "episode 9 score -10.00 averaeg score -21.00 epsilon 0.87\n",
      "episode 10 score -20.00 averaeg score -20.91 epsilon 0.86\n",
      "episode 11 score -14.00 averaeg score -20.33 epsilon 0.84\n",
      "episode 12 score -29.00 averaeg score -21.00 epsilon 0.82\n",
      "episode 13 score -58.00 averaeg score -23.64 epsilon 0.79\n",
      "episode 14 score -4.00 averaeg score -22.33 epsilon 0.78\n",
      "episode 15 score -45.00 averaeg score -23.75 epsilon 0.75\n",
      "episode 16 score -23.00 averaeg score -23.71 epsilon 0.74\n",
      "episode 17 score -18.00 averaeg score -23.39 epsilon 0.72\n",
      "episode 18 score -2.00 averaeg score -22.26 epsilon 0.72\n",
      "episode 19 score -4.00 averaeg score -21.35 epsilon 0.71\n",
      "episode 20 score -10.00 averaeg score -20.81 epsilon 0.70\n",
      "episode 21 score -4.00 averaeg score -20.05 epsilon 0.69\n",
      "episode 22 score -1.00 averaeg score -19.22 epsilon 0.68\n",
      "episode 23 score -5.00 averaeg score -18.62 epsilon 0.68\n",
      "episode 24 score -13.00 averaeg score -18.40 epsilon 0.66\n",
      "episode 25 score -8.00 averaeg score -18.00 epsilon 0.65\n",
      "episode 26 score -6.00 averaeg score -17.56 epsilon 0.65\n",
      "episode 27 score -3.00 averaeg score -17.04 epsilon 0.64\n",
      "episode 28 score -16.00 averaeg score -17.00 epsilon 0.63\n",
      "episode 29 score -26.00 averaeg score -17.30 epsilon 0.61\n",
      "episode 30 score -14.00 averaeg score -17.19 epsilon 0.59\n",
      "episode 31 score 1.00 averaeg score -16.62 epsilon 0.59\n",
      "episode 32 score -5.00 averaeg score -16.27 epsilon 0.58\n",
      "episode 33 score -6.00 averaeg score -15.97 epsilon 0.57\n",
      "episode 34 score -9.00 averaeg score -15.77 epsilon 0.56\n",
      "episode 35 score 1.00 averaeg score -15.31 epsilon 0.56\n",
      "episode 36 score 3.00 averaeg score -14.81 epsilon 0.55\n",
      "episode 37 score 0.00 averaeg score -14.42 epsilon 0.55\n",
      "episode 38 score 3.00 averaeg score -13.97 epsilon 0.54\n",
      "episode 39 score -3.00 averaeg score -13.70 epsilon 0.54\n",
      "episode 40 score 2.00 averaeg score -13.32 epsilon 0.53\n",
      "episode 41 score -8.00 averaeg score -13.19 epsilon 0.52\n",
      "episode 42 score -4.00 averaeg score -12.98 epsilon 0.52\n",
      "episode 43 score -2.00 averaeg score -12.73 epsilon 0.51\n",
      "episode 44 score -4.00 averaeg score -12.53 epsilon 0.50\n",
      "episode 45 score -7.00 averaeg score -12.41 epsilon 0.49\n",
      "episode 46 score -4.00 averaeg score -12.23 epsilon 0.49\n",
      "episode 47 score -3.00 averaeg score -12.04 epsilon 0.48\n",
      "episode 48 score -2.00 averaeg score -11.84 epsilon 0.47\n",
      "episode 49 score 0.00 averaeg score -11.60 epsilon 0.47\n",
      "episode 50 score -9.00 averaeg score -11.55 epsilon 0.46\n",
      "episode 51 score -5.00 averaeg score -11.42 epsilon 0.45\n",
      "episode 52 score -1.00 averaeg score -11.23 epsilon 0.44\n",
      "episode 53 score 3.00 averaeg score -10.96 epsilon 0.44\n",
      "episode 54 score 3.00 averaeg score -10.71 epsilon 0.43\n",
      "episode 55 score 2.00 averaeg score -10.48 epsilon 0.43\n",
      "episode 56 score -9.00 averaeg score -10.46 epsilon 0.42\n",
      "episode 57 score 0.00 averaeg score -10.28 epsilon 0.41\n",
      "episode 58 score -2.00 averaeg score -10.14 epsilon 0.41\n",
      "episode 59 score 3.00 averaeg score -9.92 epsilon 0.40\n",
      "episode 60 score -4.00 averaeg score -9.82 epsilon 0.40\n",
      "episode 61 score 2.00 averaeg score -9.63 epsilon 0.39\n",
      "episode 62 score -2.00 averaeg score -9.51 epsilon 0.39\n",
      "episode 63 score 4.00 averaeg score -9.30 epsilon 0.38\n",
      "episode 64 score 0.00 averaeg score -9.15 epsilon 0.38\n",
      "episode 65 score 4.00 averaeg score -8.95 epsilon 0.37\n",
      "episode 66 score -22.00 averaeg score -9.15 epsilon 0.36\n",
      "episode 67 score 3.00 averaeg score -8.97 epsilon 0.35\n",
      "episode 68 score -5.00 averaeg score -8.91 epsilon 0.34\n",
      "episode 69 score -5.00 averaeg score -8.86 epsilon 0.34\n",
      "episode 70 score 0.00 averaeg score -8.73 epsilon 0.33\n",
      "episode 71 score -2.00 averaeg score -8.64 epsilon 0.32\n",
      "episode 72 score 4.00 averaeg score -8.47 epsilon 0.32\n",
      "episode 73 score 0.00 averaeg score -8.35 epsilon 0.32\n",
      "episode 74 score 0.00 averaeg score -8.24 epsilon 0.31\n",
      "episode 75 score 3.00 averaeg score -8.09 epsilon 0.31\n",
      "episode 76 score 3.00 averaeg score -7.95 epsilon 0.30\n",
      "episode 77 score 2.00 averaeg score -7.82 epsilon 0.30\n",
      "episode 78 score 3.00 averaeg score -7.68 epsilon 0.29\n",
      "episode 79 score -3.00 averaeg score -7.62 epsilon 0.29\n",
      "episode 80 score 1.00 averaeg score -7.52 epsilon 0.28\n",
      "episode 81 score 0.00 averaeg score -7.43 epsilon 0.28\n",
      "episode 82 score 1.00 averaeg score -7.33 epsilon 0.27\n",
      "episode 83 score 2.00 averaeg score -7.21 epsilon 0.27\n",
      "episode 84 score 2.00 averaeg score -7.11 epsilon 0.26\n",
      "episode 85 score 2.00 averaeg score -7.00 epsilon 0.26\n",
      "episode 86 score 4.00 averaeg score -6.87 epsilon 0.25\n",
      "episode 87 score 4.00 averaeg score -6.75 epsilon 0.25\n",
      "episode 88 score 2.00 averaeg score -6.65 epsilon 0.25\n",
      "episode 89 score 2.00 averaeg score -6.56 epsilon 0.24\n",
      "episode 90 score 3.00 averaeg score -6.45 epsilon 0.24\n",
      "episode 91 score 2.00 averaeg score -6.36 epsilon 0.23\n",
      "episode 92 score 3.00 averaeg score -6.26 epsilon 0.23\n",
      "episode 93 score 3.00 averaeg score -6.16 epsilon 0.23\n",
      "episode 94 score 3.00 averaeg score -6.06 epsilon 0.22\n",
      "episode 95 score 4.00 averaeg score -5.96 epsilon 0.22\n",
      "episode 96 score 1.00 averaeg score -5.89 epsilon 0.21\n",
      "episode 97 score 2.00 averaeg score -5.81 epsilon 0.21\n",
      "episode 98 score 2.00 averaeg score -5.73 epsilon 0.20\n",
      "episode 99 score 4.00 averaeg score -5.63 epsilon 0.20\n"
     ]
    }
   ],
   "source": [
    "siglePlayDQ.train(2_000, 100)"
   ]
  },
  {
   "cell_type": "code",
   "execution_count": 8,
   "id": "d4589c23",
   "metadata": {},
   "outputs": [
    {
     "name": "stdout",
     "output_type": "stream",
     "text": [
      "          \n",
      " -------- \n",
      "|       \u001b[41m\u001b[31mx\u001b[39m\u001b[49m|\n",
      " -------- \n"
     ]
    }
   ],
   "source": [
    "siglePlayDQ.show()"
   ]
  },
  {
   "cell_type": "markdown",
   "id": "f8357dfb",
   "metadata": {},
   "source": [
    "### Going left"
   ]
  },
  {
   "cell_type": "code",
   "execution_count": 9,
   "id": "5d10c3a3",
   "metadata": {},
   "outputs": [],
   "source": [
    "end2 = [(2, 1)]\n",
    "agent_right = stage.Agent(2, 8, bg.red, fg.red)\n",
    "go_left = stage.Environment(setup_1, [agent_right], end2)"
   ]
  },
  {
   "cell_type": "code",
   "execution_count": 10,
   "id": "8b73760c",
   "metadata": {},
   "outputs": [
    {
     "name": "stdout",
     "output_type": "stream",
     "text": [
      "          \n",
      " -------- \n",
      "|\u001b[31mx\u001b[39m      \u001b[41m \u001b[49m|\n",
      " -------- \n"
     ]
    }
   ],
   "source": [
    "print(go_left.render())"
   ]
  },
  {
   "cell_type": "code",
   "execution_count": 11,
   "id": "dd573040",
   "metadata": {},
   "outputs": [],
   "source": [
    "Agent_left = Agent(lr = 0.01,  gamma=0.99, epsilon=1.0, batch_size=64, n_actions=5,\n",
    "                 eps_end=0.01, input_dims=[8])"
   ]
  },
  {
   "cell_type": "code",
   "execution_count": 12,
   "id": "b79981aa",
   "metadata": {},
   "outputs": [],
   "source": [
    "go_leftDQ = DeepQLearn(go_left, [Agent_left])"
   ]
  },
  {
   "cell_type": "code",
   "execution_count": 13,
   "id": "40ae9b11",
   "metadata": {},
   "outputs": [
    {
     "name": "stdout",
     "output_type": "stream",
     "text": [
      "episode 0 score -76.00 averaeg score -76.00 epsilon 0.99\n",
      "episode 1 score -68.00 averaeg score -72.00 epsilon 0.95\n",
      "episode 2 score -1116.00 averaeg score -420.00 epsilon 0.39\n",
      "episode 3 score -125.00 averaeg score -346.25 epsilon 0.32\n",
      "episode 4 score -562.00 averaeg score -389.40 epsilon 0.03\n",
      "episode 5 score -1863.00 averaeg score -635.00 epsilon 0.01\n",
      "episode 6 score 4.00 averaeg score -543.71 epsilon 0.01\n",
      "episode 7 score -8.00 averaeg score -476.75 epsilon 0.01\n",
      "episode 8 score 4.00 averaeg score -423.33 epsilon 0.01\n",
      "episode 9 score 4.00 averaeg score -380.60 epsilon 0.01\n",
      "episode 10 score 4.00 averaeg score -345.64 epsilon 0.01\n",
      "episode 11 score 4.00 averaeg score -316.50 epsilon 0.01\n",
      "episode 12 score 4.00 averaeg score -291.85 epsilon 0.01\n",
      "episode 13 score 4.00 averaeg score -270.71 epsilon 0.01\n",
      "episode 14 score 4.00 averaeg score -252.40 epsilon 0.01\n",
      "episode 15 score 4.00 averaeg score -236.38 epsilon 0.01\n",
      "episode 16 score 4.00 averaeg score -222.24 epsilon 0.01\n",
      "episode 17 score 4.00 averaeg score -209.67 epsilon 0.01\n",
      "episode 18 score 4.00 averaeg score -198.42 epsilon 0.01\n",
      "episode 19 score 4.00 averaeg score -188.30 epsilon 0.01\n",
      "episode 20 score 4.00 averaeg score -179.14 epsilon 0.01\n",
      "episode 21 score 4.00 averaeg score -170.82 epsilon 0.01\n",
      "episode 22 score 4.00 averaeg score -163.22 epsilon 0.01\n",
      "episode 23 score 4.00 averaeg score -156.25 epsilon 0.01\n",
      "episode 24 score 4.00 averaeg score -149.84 epsilon 0.01\n",
      "episode 25 score 4.00 averaeg score -143.92 epsilon 0.01\n",
      "episode 26 score 4.00 averaeg score -138.44 epsilon 0.01\n",
      "episode 27 score 4.00 averaeg score -133.36 epsilon 0.01\n",
      "episode 28 score 4.00 averaeg score -128.62 epsilon 0.01\n",
      "episode 29 score 4.00 averaeg score -124.20 epsilon 0.01\n",
      "episode 30 score 2.00 averaeg score -120.13 epsilon 0.01\n",
      "episode 31 score 3.00 averaeg score -116.28 epsilon 0.01\n",
      "episode 32 score 4.00 averaeg score -112.64 epsilon 0.01\n",
      "episode 33 score 4.00 averaeg score -109.21 epsilon 0.01\n",
      "episode 34 score 4.00 averaeg score -105.97 epsilon 0.01\n",
      "episode 35 score 4.00 averaeg score -102.92 epsilon 0.01\n",
      "episode 36 score 4.00 averaeg score -100.03 epsilon 0.01\n",
      "episode 37 score 4.00 averaeg score -97.29 epsilon 0.01\n",
      "episode 38 score 4.00 averaeg score -94.69 epsilon 0.01\n",
      "episode 39 score 4.00 averaeg score -92.22 epsilon 0.01\n",
      "episode 40 score 4.00 averaeg score -89.88 epsilon 0.01\n",
      "episode 41 score 4.00 averaeg score -87.64 epsilon 0.01\n",
      "episode 42 score 4.00 averaeg score -85.51 epsilon 0.01\n",
      "episode 43 score 4.00 averaeg score -83.48 epsilon 0.01\n",
      "episode 44 score 3.00 averaeg score -81.56 epsilon 0.01\n",
      "episode 45 score 4.00 averaeg score -79.70 epsilon 0.01\n",
      "episode 46 score 4.00 averaeg score -77.91 epsilon 0.01\n",
      "episode 47 score 4.00 averaeg score -76.21 epsilon 0.01\n",
      "episode 48 score 4.00 averaeg score -74.57 epsilon 0.01\n",
      "episode 49 score 4.00 averaeg score -73.00 epsilon 0.01\n",
      "episode 50 score 4.00 averaeg score -71.49 epsilon 0.01\n",
      "episode 51 score 4.00 averaeg score -70.04 epsilon 0.01\n",
      "episode 52 score 4.00 averaeg score -68.64 epsilon 0.01\n",
      "episode 53 score 4.00 averaeg score -67.30 epsilon 0.01\n",
      "episode 54 score 4.00 averaeg score -66.00 epsilon 0.01\n",
      "episode 55 score 4.00 averaeg score -64.75 epsilon 0.01\n",
      "episode 56 score 4.00 averaeg score -63.54 epsilon 0.01\n",
      "episode 57 score 4.00 averaeg score -62.38 epsilon 0.01\n",
      "episode 58 score 3.00 averaeg score -61.27 epsilon 0.01\n",
      "episode 59 score 4.00 averaeg score -60.18 epsilon 0.01\n",
      "episode 60 score 4.00 averaeg score -59.13 epsilon 0.01\n",
      "episode 61 score 4.00 averaeg score -58.11 epsilon 0.01\n",
      "episode 62 score 4.00 averaeg score -57.13 epsilon 0.01\n",
      "episode 63 score 4.00 averaeg score -56.17 epsilon 0.01\n",
      "episode 64 score 4.00 averaeg score -55.25 epsilon 0.01\n",
      "episode 65 score 4.00 averaeg score -54.35 epsilon 0.01\n",
      "episode 66 score 4.00 averaeg score -53.48 epsilon 0.01\n",
      "episode 67 score 4.00 averaeg score -52.63 epsilon 0.01\n",
      "episode 68 score 4.00 averaeg score -51.81 epsilon 0.01\n",
      "episode 69 score 4.00 averaeg score -51.01 epsilon 0.01\n",
      "episode 70 score 4.00 averaeg score -50.24 epsilon 0.01\n",
      "episode 71 score 4.00 averaeg score -49.49 epsilon 0.01\n",
      "episode 72 score 4.00 averaeg score -48.75 epsilon 0.01\n",
      "episode 73 score 4.00 averaeg score -48.04 epsilon 0.01\n",
      "episode 74 score 4.00 averaeg score -47.35 epsilon 0.01\n",
      "episode 75 score 4.00 averaeg score -46.67 epsilon 0.01\n",
      "episode 76 score 4.00 averaeg score -46.01 epsilon 0.01\n",
      "episode 77 score 2.00 averaeg score -45.40 epsilon 0.01\n",
      "episode 78 score 4.00 averaeg score -44.77 epsilon 0.01\n",
      "episode 79 score 3.00 averaeg score -44.17 epsilon 0.01\n",
      "episode 80 score 4.00 averaeg score -43.58 epsilon 0.01\n",
      "episode 81 score 4.00 averaeg score -43.00 epsilon 0.01\n",
      "episode 82 score 4.00 averaeg score -42.43 epsilon 0.01\n",
      "episode 83 score 4.00 averaeg score -41.88 epsilon 0.01\n",
      "episode 84 score 4.00 averaeg score -41.34 epsilon 0.01\n",
      "episode 85 score 4.00 averaeg score -40.81 epsilon 0.01\n",
      "episode 86 score 4.00 averaeg score -40.30 epsilon 0.01\n",
      "episode 87 score 4.00 averaeg score -39.80 epsilon 0.01\n",
      "episode 88 score 4.00 averaeg score -39.30 epsilon 0.01\n",
      "episode 89 score 4.00 averaeg score -38.82 epsilon 0.01\n",
      "episode 90 score 4.00 averaeg score -38.35 epsilon 0.01\n",
      "episode 91 score 4.00 averaeg score -37.89 epsilon 0.01\n",
      "episode 92 score 4.00 averaeg score -37.44 epsilon 0.01\n",
      "episode 93 score 4.00 averaeg score -37.00 epsilon 0.01\n",
      "episode 94 score 4.00 averaeg score -36.57 epsilon 0.01\n",
      "episode 95 score 4.00 averaeg score -36.15 epsilon 0.01\n",
      "episode 96 score 4.00 averaeg score -35.73 epsilon 0.01\n",
      "episode 97 score 4.00 averaeg score -35.33 epsilon 0.01\n",
      "episode 98 score 4.00 averaeg score -34.93 epsilon 0.01\n",
      "episode 99 score 3.00 averaeg score -34.55 epsilon 0.01\n"
     ]
    }
   ],
   "source": [
    "go_leftDQ.train(2_000, 100)"
   ]
  },
  {
   "cell_type": "code",
   "execution_count": 14,
   "id": "98fdfa84",
   "metadata": {},
   "outputs": [
    {
     "name": "stdout",
     "output_type": "stream",
     "text": [
      "          \n",
      " -------- \n",
      "|\u001b[41m\u001b[31mx\u001b[39m\u001b[49m       |\n",
      " -------- \n"
     ]
    }
   ],
   "source": [
    "go_leftDQ.show()"
   ]
  },
  {
   "cell_type": "markdown",
   "id": "635da968",
   "metadata": {},
   "source": [
    "### Going up"
   ]
  },
  {
   "cell_type": "code",
   "execution_count": 15,
   "id": "c6f93f43",
   "metadata": {},
   "outputs": [],
   "source": [
    "setup_2 = [\n",
    "    \"xxx\",\n",
    "    \"x x\",\n",
    "    \"x x\",\n",
    "    \"x x\",\n",
    "    \"x x\",\n",
    "    \"x x\",\n",
    "    \"x x\",\n",
    "    \"x x\",\n",
    "    \"x x\",\n",
    "    \"xxx\",\n",
    "]"
   ]
  },
  {
   "cell_type": "code",
   "execution_count": 16,
   "id": "9061a067",
   "metadata": {},
   "outputs": [],
   "source": [
    "end_up = [(1, 1)]\n",
    "agent_up = stage.Agent(8, 1, bg.red, fg.red)\n",
    "go_up = stage.Environment(setup_2, [agent_up], end_up)"
   ]
  },
  {
   "cell_type": "code",
   "execution_count": 17,
   "id": "08594926",
   "metadata": {},
   "outputs": [
    {
     "name": "stdout",
     "output_type": "stream",
     "text": [
      " - \n",
      "|\u001b[31mx\u001b[39m|\n",
      "| |\n",
      "| |\n",
      "| |\n",
      "| |\n",
      "| |\n",
      "| |\n",
      "|\u001b[41m \u001b[49m|\n",
      " - \n"
     ]
    }
   ],
   "source": [
    "print(go_up.render())"
   ]
  },
  {
   "cell_type": "code",
   "execution_count": 18,
   "id": "424c9832",
   "metadata": {},
   "outputs": [],
   "source": [
    "Agent_up = Agent(lr = 0.01,  gamma=0.99, epsilon=1.0, batch_size=64, n_actions=5,\n",
    "                 eps_end=0.01, input_dims=[8])"
   ]
  },
  {
   "cell_type": "code",
   "execution_count": 19,
   "id": "72673b0b",
   "metadata": {},
   "outputs": [],
   "source": [
    "go_upDQ = DeepQLearn(go_up, [Agent_up])"
   ]
  },
  {
   "cell_type": "code",
   "execution_count": 20,
   "id": "450710e2",
   "metadata": {},
   "outputs": [
    {
     "name": "stdout",
     "output_type": "stream",
     "text": [
      "episode 0 score -145.00 averaeg score -145.00 epsilon 0.95\n",
      "episode 1 score -157.00 averaeg score -151.00 epsilon 0.87\n",
      "episode 2 score -71.00 averaeg score -124.33 epsilon 0.83\n",
      "episode 3 score -42.00 averaeg score -103.75 epsilon 0.80\n",
      "episode 4 score -311.00 averaeg score -145.20 epsilon 0.64\n",
      "episode 5 score -190.00 averaeg score -152.67 epsilon 0.54\n",
      "episode 6 score -238.00 averaeg score -164.86 epsilon 0.42\n",
      "episode 7 score -1139.00 averaeg score -286.62 epsilon 0.01\n",
      "episode 8 score -13.00 averaeg score -256.22 epsilon 0.01\n",
      "episode 9 score 4.00 averaeg score -230.20 epsilon 0.01\n",
      "episode 10 score 4.00 averaeg score -208.91 epsilon 0.01\n",
      "episode 11 score 4.00 averaeg score -191.17 epsilon 0.01\n",
      "episode 12 score 4.00 averaeg score -176.15 epsilon 0.01\n",
      "episode 13 score 4.00 averaeg score -163.29 epsilon 0.01\n",
      "episode 14 score 4.00 averaeg score -152.13 epsilon 0.01\n",
      "episode 15 score 4.00 averaeg score -142.38 epsilon 0.01\n",
      "episode 16 score 4.00 averaeg score -133.76 epsilon 0.01\n",
      "episode 17 score 4.00 averaeg score -126.11 epsilon 0.01\n",
      "episode 18 score 4.00 averaeg score -119.26 epsilon 0.01\n",
      "episode 19 score 4.00 averaeg score -113.10 epsilon 0.01\n",
      "episode 20 score 4.00 averaeg score -107.52 epsilon 0.01\n",
      "episode 21 score 4.00 averaeg score -102.45 epsilon 0.01\n",
      "episode 22 score 4.00 averaeg score -97.83 epsilon 0.01\n",
      "episode 23 score 4.00 averaeg score -93.58 epsilon 0.01\n",
      "episode 24 score 4.00 averaeg score -89.68 epsilon 0.01\n",
      "episode 25 score 4.00 averaeg score -86.08 epsilon 0.01\n",
      "episode 26 score 4.00 averaeg score -82.74 epsilon 0.01\n",
      "episode 27 score 4.00 averaeg score -79.64 epsilon 0.01\n",
      "episode 28 score 4.00 averaeg score -76.76 epsilon 0.01\n",
      "episode 29 score 4.00 averaeg score -74.07 epsilon 0.01\n",
      "episode 30 score 4.00 averaeg score -71.55 epsilon 0.01\n",
      "episode 31 score 4.00 averaeg score -69.19 epsilon 0.01\n",
      "episode 32 score 4.00 averaeg score -66.97 epsilon 0.01\n",
      "episode 33 score 4.00 averaeg score -64.88 epsilon 0.01\n",
      "episode 34 score 4.00 averaeg score -62.91 epsilon 0.01\n",
      "episode 35 score 4.00 averaeg score -61.06 epsilon 0.01\n",
      "episode 36 score 4.00 averaeg score -59.30 epsilon 0.01\n",
      "episode 37 score 4.00 averaeg score -57.63 epsilon 0.01\n",
      "episode 38 score 4.00 averaeg score -56.05 epsilon 0.01\n",
      "episode 39 score 4.00 averaeg score -54.55 epsilon 0.01\n",
      "episode 40 score 4.00 averaeg score -53.12 epsilon 0.01\n",
      "episode 41 score 4.00 averaeg score -51.76 epsilon 0.01\n",
      "episode 42 score 4.00 averaeg score -50.47 epsilon 0.01\n",
      "episode 43 score 4.00 averaeg score -49.23 epsilon 0.01\n",
      "episode 44 score 4.00 averaeg score -48.04 epsilon 0.01\n",
      "episode 45 score 4.00 averaeg score -46.91 epsilon 0.01\n",
      "episode 46 score 4.00 averaeg score -45.83 epsilon 0.01\n",
      "episode 47 score 4.00 averaeg score -44.79 epsilon 0.01\n",
      "episode 48 score 4.00 averaeg score -43.80 epsilon 0.01\n",
      "episode 49 score 4.00 averaeg score -42.84 epsilon 0.01\n",
      "episode 50 score 4.00 averaeg score -41.92 epsilon 0.01\n",
      "episode 51 score 4.00 averaeg score -41.04 epsilon 0.01\n",
      "episode 52 score 4.00 averaeg score -40.19 epsilon 0.01\n",
      "episode 53 score 4.00 averaeg score -39.37 epsilon 0.01\n",
      "episode 54 score 4.00 averaeg score -38.58 epsilon 0.01\n",
      "episode 55 score 4.00 averaeg score -37.82 epsilon 0.01\n",
      "episode 56 score 4.00 averaeg score -37.09 epsilon 0.01\n",
      "episode 57 score 4.00 averaeg score -36.38 epsilon 0.01\n",
      "episode 58 score 4.00 averaeg score -35.69 epsilon 0.01\n",
      "episode 59 score 4.00 averaeg score -35.03 epsilon 0.01\n",
      "episode 60 score 4.00 averaeg score -34.39 epsilon 0.01\n",
      "episode 61 score 4.00 averaeg score -33.77 epsilon 0.01\n",
      "episode 62 score 4.00 averaeg score -33.17 epsilon 0.01\n",
      "episode 63 score 4.00 averaeg score -32.59 epsilon 0.01\n",
      "episode 64 score 4.00 averaeg score -32.03 epsilon 0.01\n",
      "episode 65 score 4.00 averaeg score -31.48 epsilon 0.01\n",
      "episode 66 score 3.00 averaeg score -30.97 epsilon 0.01\n",
      "episode 67 score 4.00 averaeg score -30.46 epsilon 0.01\n",
      "episode 68 score 3.00 averaeg score -29.97 epsilon 0.01\n",
      "episode 69 score 4.00 averaeg score -29.49 epsilon 0.01\n",
      "episode 70 score 4.00 averaeg score -29.01 epsilon 0.01\n",
      "episode 71 score 4.00 averaeg score -28.56 epsilon 0.01\n",
      "episode 72 score 4.00 averaeg score -28.11 epsilon 0.01\n",
      "episode 73 score 4.00 averaeg score -27.68 epsilon 0.01\n",
      "episode 74 score 4.00 averaeg score -27.25 epsilon 0.01\n",
      "episode 75 score 4.00 averaeg score -26.84 epsilon 0.01\n",
      "episode 76 score 4.00 averaeg score -26.44 epsilon 0.01\n",
      "episode 77 score 4.00 averaeg score -26.05 epsilon 0.01\n",
      "episode 78 score 4.00 averaeg score -25.67 epsilon 0.01\n",
      "episode 79 score 4.00 averaeg score -25.30 epsilon 0.01\n",
      "episode 80 score 2.00 averaeg score -24.96 epsilon 0.01\n",
      "episode 81 score 4.00 averaeg score -24.61 epsilon 0.01\n",
      "episode 82 score 4.00 averaeg score -24.27 epsilon 0.01\n",
      "episode 83 score 4.00 averaeg score -23.93 epsilon 0.01\n",
      "episode 84 score 4.00 averaeg score -23.60 epsilon 0.01\n",
      "episode 85 score 4.00 averaeg score -23.28 epsilon 0.01\n",
      "episode 86 score 4.00 averaeg score -22.97 epsilon 0.01\n",
      "episode 87 score 4.00 averaeg score -22.66 epsilon 0.01\n",
      "episode 88 score 4.00 averaeg score -22.36 epsilon 0.01\n",
      "episode 89 score 4.00 averaeg score -22.07 epsilon 0.01\n",
      "episode 90 score 4.00 averaeg score -21.78 epsilon 0.01\n",
      "episode 91 score 4.00 averaeg score -21.50 epsilon 0.01\n",
      "episode 92 score 4.00 averaeg score -21.23 epsilon 0.01\n",
      "episode 93 score 4.00 averaeg score -20.96 epsilon 0.01\n",
      "episode 94 score 4.00 averaeg score -20.69 epsilon 0.01\n",
      "episode 95 score 4.00 averaeg score -20.44 epsilon 0.01\n",
      "episode 96 score 4.00 averaeg score -20.19 epsilon 0.01\n",
      "episode 97 score 4.00 averaeg score -19.94 epsilon 0.01\n",
      "episode 98 score 4.00 averaeg score -19.70 epsilon 0.01\n",
      "episode 99 score 4.00 averaeg score -19.46 epsilon 0.01\n"
     ]
    }
   ],
   "source": [
    "go_upDQ.train(2_000, 100)"
   ]
  },
  {
   "cell_type": "code",
   "execution_count": 37,
   "id": "215799ec",
   "metadata": {},
   "outputs": [
    {
     "name": "stdout",
     "output_type": "stream",
     "text": [
      " - \n",
      "|\u001b[41m\u001b[31mx\u001b[39m\u001b[49m|\n",
      "| |\n",
      "| |\n",
      "| |\n",
      "| |\n",
      "| |\n",
      "| |\n",
      "| |\n",
      " - \n"
     ]
    }
   ],
   "source": [
    "go_upDQ.show()"
   ]
  },
  {
   "cell_type": "markdown",
   "id": "e9858052",
   "metadata": {},
   "source": [
    "### Going down"
   ]
  },
  {
   "cell_type": "code",
   "execution_count": 44,
   "id": "3a9e0bee",
   "metadata": {},
   "outputs": [],
   "source": [
    "end_down = [(8, 1)]\n",
    "agent_down = stage.Agent(1, 1, bg.red, fg.red)\n",
    "go_down = stage.Environment(setup_2, [agent_down], end_down)"
   ]
  },
  {
   "cell_type": "code",
   "execution_count": 45,
   "id": "dece2f2e",
   "metadata": {},
   "outputs": [
    {
     "name": "stdout",
     "output_type": "stream",
     "text": [
      " - \n",
      "|\u001b[41m \u001b[49m|\n",
      "| |\n",
      "| |\n",
      "| |\n",
      "| |\n",
      "| |\n",
      "| |\n",
      "|\u001b[31mx\u001b[39m|\n",
      " - \n"
     ]
    }
   ],
   "source": [
    "print(go_down.render())"
   ]
  },
  {
   "cell_type": "code",
   "execution_count": 46,
   "id": "ca725bf3",
   "metadata": {},
   "outputs": [],
   "source": [
    "Agent_down = Agent(lr = 0.01,  gamma=0.99, epsilon=1.0, batch_size=64, n_actions=5,\n",
    "                 eps_end=0.01, input_dims=[8])"
   ]
  },
  {
   "cell_type": "code",
   "execution_count": 47,
   "id": "f3539ecf",
   "metadata": {},
   "outputs": [],
   "source": [
    "go_downDQ = DeepQLearn(go_down, [Agent_down])"
   ]
  },
  {
   "cell_type": "code",
   "execution_count": 48,
   "id": "75316d99",
   "metadata": {},
   "outputs": [
    {
     "name": "stdout",
     "output_type": "stream",
     "text": [
      "episode 0 score -5.00 averaeg score -5.00 epsilon 1.00\n",
      "episode 1 score -33.00 averaeg score -19.00 epsilon 1.00\n",
      "episode 2 score -108.00 averaeg score -48.67 epsilon 0.94\n",
      "episode 3 score -34.00 averaeg score -45.00 epsilon 0.92\n",
      "episode 4 score -26.00 averaeg score -41.20 epsilon 0.90\n",
      "episode 5 score -19.00 averaeg score -37.50 epsilon 0.89\n",
      "episode 6 score -88.00 averaeg score -44.71 epsilon 0.84\n",
      "episode 7 score -33.00 averaeg score -43.25 epsilon 0.81\n",
      "episode 8 score -47.00 averaeg score -43.67 epsilon 0.79\n",
      "episode 9 score -12.00 averaeg score -40.50 epsilon 0.77\n",
      "episode 10 score -10.00 averaeg score -37.73 epsilon 0.76\n",
      "episode 11 score -16.00 averaeg score -35.92 epsilon 0.75\n",
      "episode 12 score -20.00 averaeg score -34.69 epsilon 0.73\n",
      "episode 13 score -21.00 averaeg score -33.71 epsilon 0.72\n",
      "episode 14 score 3.00 averaeg score -31.27 epsilon 0.71\n",
      "episode 15 score 3.00 averaeg score -29.12 epsilon 0.71\n",
      "episode 16 score 0.00 averaeg score -27.41 epsilon 0.71\n",
      "episode 17 score -22.00 averaeg score -27.11 epsilon 0.69\n",
      "episode 18 score -3.00 averaeg score -25.84 epsilon 0.68\n",
      "episode 19 score -29.00 averaeg score -26.00 epsilon 0.66\n",
      "episode 20 score -1.00 averaeg score -24.81 epsilon 0.66\n",
      "episode 21 score -6.00 averaeg score -23.95 epsilon 0.65\n",
      "episode 22 score -7.00 averaeg score -23.22 epsilon 0.64\n",
      "episode 23 score -8.00 averaeg score -22.58 epsilon 0.63\n",
      "episode 24 score -12.00 averaeg score -22.16 epsilon 0.62\n",
      "episode 25 score 0.00 averaeg score -21.31 epsilon 0.61\n",
      "episode 26 score -2.00 averaeg score -20.59 epsilon 0.61\n",
      "episode 27 score -11.00 averaeg score -20.25 epsilon 0.59\n",
      "episode 28 score -10.00 averaeg score -19.90 epsilon 0.58\n",
      "episode 29 score -10.00 averaeg score -19.57 epsilon 0.57\n",
      "episode 30 score 2.00 averaeg score -18.87 epsilon 0.57\n",
      "episode 31 score -18.00 averaeg score -18.84 epsilon 0.55\n",
      "episode 32 score -16.00 averaeg score -18.76 epsilon 0.54\n",
      "episode 33 score -11.00 averaeg score -18.53 epsilon 0.53\n",
      "episode 34 score -2.00 averaeg score -18.06 epsilon 0.52\n",
      "episode 35 score 3.00 averaeg score -17.47 epsilon 0.52\n",
      "episode 36 score -8.00 averaeg score -17.22 epsilon 0.51\n",
      "episode 37 score -2.00 averaeg score -16.82 epsilon 0.50\n",
      "episode 38 score -10.00 averaeg score -16.64 epsilon 0.49\n",
      "episode 39 score 0.00 averaeg score -16.23 epsilon 0.49\n",
      "episode 40 score 0.00 averaeg score -15.83 epsilon 0.48\n",
      "episode 41 score -1.00 averaeg score -15.48 epsilon 0.48\n",
      "episode 42 score -8.00 averaeg score -15.30 epsilon 0.47\n",
      "episode 43 score -5.00 averaeg score -15.07 epsilon 0.46\n",
      "episode 44 score 1.00 averaeg score -14.71 epsilon 0.45\n",
      "episode 45 score 2.00 averaeg score -14.35 epsilon 0.45\n",
      "episode 46 score 0.00 averaeg score -14.04 epsilon 0.44\n",
      "episode 47 score -3.00 averaeg score -13.81 epsilon 0.44\n",
      "episode 48 score 2.00 averaeg score -13.49 epsilon 0.43\n",
      "episode 49 score 1.00 averaeg score -13.20 epsilon 0.43\n",
      "episode 50 score -1.00 averaeg score -12.96 epsilon 0.42\n",
      "episode 51 score -1.00 averaeg score -12.73 epsilon 0.41\n",
      "episode 52 score -2.00 averaeg score -12.53 epsilon 0.41\n",
      "episode 53 score 3.00 averaeg score -12.24 epsilon 0.40\n",
      "episode 54 score 0.00 averaeg score -12.02 epsilon 0.40\n",
      "episode 55 score 0.00 averaeg score -11.80 epsilon 0.39\n",
      "episode 56 score -1.00 averaeg score -11.61 epsilon 0.39\n",
      "episode 57 score -6.00 averaeg score -11.52 epsilon 0.38\n",
      "episode 58 score 1.00 averaeg score -11.31 epsilon 0.37\n",
      "episode 59 score 1.00 averaeg score -11.10 epsilon 0.37\n",
      "episode 60 score -2.00 averaeg score -10.95 epsilon 0.36\n",
      "episode 61 score -1.00 averaeg score -10.79 epsilon 0.36\n",
      "episode 62 score -3.00 averaeg score -10.67 epsilon 0.35\n",
      "episode 63 score 2.00 averaeg score -10.47 epsilon 0.34\n",
      "episode 64 score 0.00 averaeg score -10.31 epsilon 0.34\n",
      "episode 65 score 4.00 averaeg score -10.09 epsilon 0.34\n",
      "episode 66 score 2.00 averaeg score -9.91 epsilon 0.33\n",
      "episode 67 score -4.00 averaeg score -9.82 epsilon 0.32\n",
      "episode 68 score 1.00 averaeg score -9.67 epsilon 0.32\n",
      "episode 69 score 1.00 averaeg score -9.51 epsilon 0.31\n",
      "episode 70 score -2.00 averaeg score -9.41 epsilon 0.31\n",
      "episode 71 score -2.00 averaeg score -9.31 epsilon 0.30\n",
      "episode 72 score -6.00 averaeg score -9.26 epsilon 0.29\n",
      "episode 73 score -11.00 averaeg score -9.28 epsilon 0.28\n",
      "episode 74 score 4.00 averaeg score -9.11 epsilon 0.28\n",
      "episode 75 score 2.00 averaeg score -8.96 epsilon 0.27\n",
      "episode 76 score 4.00 averaeg score -8.79 epsilon 0.27\n",
      "episode 77 score 3.00 averaeg score -8.64 epsilon 0.27\n",
      "episode 78 score 3.00 averaeg score -8.49 epsilon 0.26\n",
      "episode 79 score -3.00 averaeg score -8.43 epsilon 0.25\n",
      "episode 80 score 2.00 averaeg score -8.30 epsilon 0.25\n",
      "episode 81 score -3.00 averaeg score -8.23 epsilon 0.24\n",
      "episode 82 score 2.00 averaeg score -8.11 epsilon 0.24\n",
      "episode 83 score 2.00 averaeg score -7.99 epsilon 0.23\n",
      "episode 84 score -3.00 averaeg score -7.93 epsilon 0.23\n",
      "episode 85 score 2.00 averaeg score -7.81 epsilon 0.22\n",
      "episode 86 score 1.00 averaeg score -7.71 epsilon 0.22\n",
      "episode 87 score 4.00 averaeg score -7.58 epsilon 0.21\n",
      "episode 88 score 4.00 averaeg score -7.45 epsilon 0.21\n",
      "episode 89 score 4.00 averaeg score -7.32 epsilon 0.21\n",
      "episode 90 score 2.00 averaeg score -7.22 epsilon 0.20\n",
      "episode 91 score 3.00 averaeg score -7.11 epsilon 0.20\n",
      "episode 92 score 3.00 averaeg score -7.00 epsilon 0.19\n",
      "episode 93 score -1.00 averaeg score -6.94 epsilon 0.19\n",
      "episode 94 score 3.00 averaeg score -6.83 epsilon 0.18\n",
      "episode 95 score 3.00 averaeg score -6.73 epsilon 0.18\n",
      "episode 96 score 4.00 averaeg score -6.62 epsilon 0.18\n",
      "episode 97 score 2.00 averaeg score -6.53 epsilon 0.17\n",
      "episode 98 score 2.00 averaeg score -6.44 epsilon 0.17\n",
      "episode 99 score 3.00 averaeg score -6.35 epsilon 0.16\n"
     ]
    }
   ],
   "source": [
    "go_downDQ.train(2_000, 100)"
   ]
  },
  {
   "cell_type": "code",
   "execution_count": 51,
   "id": "fd367460",
   "metadata": {},
   "outputs": [
    {
     "name": "stdout",
     "output_type": "stream",
     "text": [
      " - \n",
      "| |\n",
      "| |\n",
      "| |\n",
      "| |\n",
      "| |\n",
      "| |\n",
      "| |\n",
      "|\u001b[41m\u001b[31mx\u001b[39m\u001b[49m|\n",
      " - \n"
     ]
    }
   ],
   "source": [
    "go_downDQ.show()"
   ]
  },
  {
   "cell_type": "markdown",
   "id": "e79b3893",
   "metadata": {},
   "source": [
    "# Gernaral Test"
   ]
  },
  {
   "cell_type": "code",
   "execution_count": 28,
   "id": "34c630fa",
   "metadata": {},
   "outputs": [],
   "source": [
    "big_squre = [\n",
    "    \n",
    "    \"xxxxxxxxxx\",\n",
    "    \"x        x\",\n",
    "    \"x        x\",\n",
    "    \"x        x\",\n",
    "    \"x        x\",\n",
    "    \"x        x\",\n",
    "    \"x        x\",\n",
    "    \"x        x\",\n",
    "    \"x        x\",\n",
    "    \"xxxxxxxxxx\",\n",
    "    \n",
    "]"
   ]
  },
  {
   "cell_type": "code",
   "execution_count": 55,
   "id": "0245eee8",
   "metadata": {},
   "outputs": [
    {
     "name": "stdout",
     "output_type": "stream",
     "text": [
      " -------- \n",
      "|        |\n",
      "|        |\n",
      "|        |\n",
      "|        |\n",
      "|        |\n",
      "|        |\n",
      "|    \u001b[41m \u001b[49m   |\n",
      "|\u001b[31mx\u001b[39m       |\n",
      " -------- \n",
      "episode 0 score -25.00 averaeg score -25.00 epsilon 1.00\n",
      "episode 1 score -267.00 averaeg score -146.00 epsilon 0.99\n",
      "episode 2 score -1337.00 averaeg score -543.00 epsilon 0.92\n",
      "episode 3 score -152.00 averaeg score -445.25 epsilon 0.91\n",
      "episode 4 score -171.00 averaeg score -390.40 epsilon 0.90\n",
      "episode 5 score -425.00 averaeg score -396.17 epsilon 0.88\n",
      "episode 6 score -15.00 averaeg score -341.71 epsilon 0.88\n",
      "episode 7 score -1254.00 averaeg score -455.75 epsilon 0.82\n",
      "episode 8 score -56.00 averaeg score -411.33 epsilon 0.81\n",
      "episode 9 score -134.00 averaeg score -383.60 epsilon 0.81\n",
      "episode 10 score -480.00 averaeg score -392.36 epsilon 0.78\n",
      "episode 11 score -190.00 averaeg score -375.50 epsilon 0.77\n",
      "episode 12 score 1.00 averaeg score -346.54 epsilon 0.77\n",
      "episode 13 score -29.00 averaeg score -323.86 epsilon 0.77\n",
      "episode 14 score -120.00 averaeg score -310.27 epsilon 0.76\n",
      "episode 15 score -6.00 averaeg score -291.25 epsilon 0.76\n",
      "episode 16 score -18.00 averaeg score -275.18 epsilon 0.76\n",
      "episode 17 score -167.00 averaeg score -269.17 epsilon 0.75\n",
      "episode 18 score -12.00 averaeg score -255.63 epsilon 0.75\n",
      "episode 19 score -160.00 averaeg score -250.85 epsilon 0.74\n",
      "episode 20 score -137.00 averaeg score -245.43 epsilon 0.73\n",
      "episode 21 score -9.00 averaeg score -234.68 epsilon 0.73\n",
      "episode 22 score -344.00 averaeg score -239.43 epsilon 0.72\n",
      "episode 23 score -207.00 averaeg score -238.08 epsilon 0.70\n",
      "episode 24 score -123.00 averaeg score -233.48 epsilon 0.70\n",
      "episode 25 score -22.00 averaeg score -225.35 epsilon 0.70\n",
      "episode 26 score -20.00 averaeg score -217.74 epsilon 0.69\n",
      "episode 27 score -248.00 averaeg score -218.82 epsilon 0.68\n",
      "episode 28 score -51.00 averaeg score -213.03 epsilon 0.68\n",
      "episode 29 score -131.00 averaeg score -210.30 epsilon 0.67\n",
      "episode 30 score -50.00 averaeg score -205.13 epsilon 0.67\n",
      "episode 31 score 0.00 averaeg score -198.72 epsilon 0.67\n",
      "episode 32 score -40.00 averaeg score -193.91 epsilon 0.67\n",
      "episode 33 score -690.00 averaeg score -208.50 epsilon 0.63\n",
      "episode 34 score -189.00 averaeg score -207.94 epsilon 0.62\n",
      "episode 35 score -164.00 averaeg score -206.72 epsilon 0.61\n",
      "episode 36 score -412.00 averaeg score -212.27 epsilon 0.59\n",
      "episode 37 score -195.00 averaeg score -211.82 epsilon 0.58\n",
      "episode 38 score -146.00 averaeg score -210.13 epsilon 0.57\n",
      "episode 39 score -96.00 averaeg score -207.28 epsilon 0.57\n",
      "episode 40 score -103.00 averaeg score -204.73 epsilon 0.56\n",
      "episode 41 score -151.00 averaeg score -203.45 epsilon 0.55\n",
      "episode 42 score -445.00 averaeg score -209.07 epsilon 0.53\n",
      "episode 43 score -4.00 averaeg score -204.41 epsilon 0.53\n",
      "episode 44 score -32.00 averaeg score -200.58 epsilon 0.53\n",
      "episode 45 score -1.00 averaeg score -196.24 epsilon 0.53\n",
      "episode 46 score 0.00 averaeg score -192.06 epsilon 0.53\n",
      "episode 47 score 3.00 averaeg score -188.00 epsilon 0.53\n",
      "episode 48 score -141.00 averaeg score -187.04 epsilon 0.52\n",
      "episode 49 score 0.00 averaeg score -183.30 epsilon 0.52\n",
      "episode 50 score -72.00 averaeg score -181.12 epsilon 0.51\n",
      "episode 51 score 4.00 averaeg score -177.56 epsilon 0.51\n",
      "episode 52 score -287.00 averaeg score -179.62 epsilon 0.50\n",
      "episode 53 score -17.00 averaeg score -176.61 epsilon 0.50\n",
      "episode 54 score 0.00 averaeg score -173.40 epsilon 0.50\n",
      "episode 55 score -471.00 averaeg score -178.71 epsilon 0.47\n",
      "episode 56 score -2.00 averaeg score -175.61 epsilon 0.47\n",
      "episode 57 score -29.00 averaeg score -173.09 epsilon 0.47\n",
      "episode 58 score 5.00 averaeg score -170.07 epsilon 0.47\n",
      "episode 59 score -1.00 averaeg score -167.25 epsilon 0.47\n",
      "episode 60 score -236.00 averaeg score -168.38 epsilon 0.46\n",
      "episode 61 score 2.00 averaeg score -165.63 epsilon 0.46\n",
      "episode 62 score -12.00 averaeg score -163.19 epsilon 0.45\n",
      "episode 63 score -105.00 averaeg score -162.28 epsilon 0.45\n",
      "episode 64 score -33.00 averaeg score -160.29 epsilon 0.45\n",
      "episode 65 score 5.00 averaeg score -157.79 epsilon 0.45\n",
      "episode 66 score 5.00 averaeg score -155.36 epsilon 0.45\n",
      "episode 67 score -4.00 averaeg score -153.13 epsilon 0.45\n",
      "episode 68 score 2.00 averaeg score -150.88 epsilon 0.44\n",
      "episode 69 score -18.00 averaeg score -148.99 epsilon 0.44\n",
      "episode 70 score 6.00 averaeg score -146.80 epsilon 0.44\n",
      "episode 71 score 6.00 averaeg score -144.68 epsilon 0.44\n",
      "episode 72 score -41.00 averaeg score -143.26 epsilon 0.44\n",
      "episode 73 score -79.00 averaeg score -142.39 epsilon 0.44\n",
      "episode 74 score -93.00 averaeg score -141.73 epsilon 0.43\n",
      "episode 75 score -234.00 averaeg score -142.95 epsilon 0.42\n",
      "episode 76 score -2.00 averaeg score -141.12 epsilon 0.42\n",
      "episode 77 score 3.00 averaeg score -139.27 epsilon 0.42\n",
      "episode 78 score -10.00 averaeg score -137.63 epsilon 0.42\n",
      "episode 79 score -57.00 averaeg score -136.62 epsilon 0.41\n",
      "episode 80 score 6.00 averaeg score -134.86 epsilon 0.41\n",
      "episode 81 score -311.00 averaeg score -137.01 epsilon 0.40\n",
      "episode 82 score 0.00 averaeg score -135.36 epsilon 0.40\n",
      "episode 83 score -31.00 averaeg score -134.12 epsilon 0.39\n",
      "episode 84 score -18.00 averaeg score -132.75 epsilon 0.39\n",
      "episode 85 score -52.00 averaeg score -131.81 epsilon 0.39\n",
      "episode 86 score -217.00 averaeg score -132.79 epsilon 0.38\n",
      "episode 87 score -8.00 averaeg score -131.38 epsilon 0.38\n",
      "episode 88 score -20.00 averaeg score -130.12 epsilon 0.38\n",
      "episode 89 score 6.00 averaeg score -128.61 epsilon 0.37\n",
      "episode 90 score -508.00 averaeg score -132.78 epsilon 0.35\n",
      "episode 91 score 1.00 averaeg score -131.33 epsilon 0.35\n",
      "episode 92 score -25.00 averaeg score -130.18 epsilon 0.35\n",
      "episode 93 score -27.00 averaeg score -129.09 epsilon 0.34\n",
      "episode 94 score -5.00 averaeg score -127.78 epsilon 0.34\n",
      "episode 95 score -14.00 averaeg score -126.59 epsilon 0.34\n",
      "episode 96 score -56.00 averaeg score -125.87 epsilon 0.34\n",
      "episode 97 score 4.00 averaeg score -124.54 epsilon 0.34\n",
      "episode 98 score -1291.00 averaeg score -136.32 epsilon 0.27\n",
      "episode 99 score -720.00 averaeg score -142.16 epsilon 0.24\n"
     ]
    }
   ],
   "source": [
    "agent_a = Agent(lr = 0.01,  gamma=0.99, epsilon=1.0, batch_size=64, n_actions=5,\n",
    "                 eps_end=0.01, input_dims=[8], eps_dec=0.00005)\n",
    "\n",
    "start_point = (np.random.randint(1, 9), np.random.randint(1, 9))\n",
    "end_point = (np.random.randint(1, 9), np.random.randint(1, 9))\n",
    "env_agent = stage.Agent(start_point[0], start_point[1], bg.red, fg.red)\n",
    "gernaral_test = stage.Environment(big_squre, [env_agent], [end_point])\n",
    "print(gernaral_test.render())\n",
    "gernaral_DQ = DeepQLearn(gernaral_test, [agent_a])\n",
    "gernaral_DQ.train(5000, 100)"
   ]
  },
  {
   "cell_type": "code",
   "execution_count": 58,
   "id": "c495034d",
   "metadata": {},
   "outputs": [
    {
     "name": "stdout",
     "output_type": "stream",
     "text": [
      " -------- \n",
      "|        |\n",
      "|        |\n",
      "|        |\n",
      "|        |\n",
      "|        |\n",
      "|        |\n",
      "|        |\n",
      "|\u001b[41m\u001b[31mx\u001b[39m\u001b[49m       |\n",
      " -------- \n"
     ]
    }
   ],
   "source": [
    "gernaral_DQ.show()"
   ]
  },
  {
   "cell_type": "markdown",
   "id": "33f460d1",
   "metadata": {},
   "source": [
    "### Maze test"
   ]
  },
  {
   "cell_type": "code",
   "execution_count": 74,
   "id": "9812b4d2",
   "metadata": {},
   "outputs": [],
   "source": [
    "setup_maze = [\n",
    "    \"xxxxxxxxxx\",\n",
    "    \"x x      x\",\n",
    "    \"x x  x   x\",\n",
    "    \"x x  x   x\",\n",
    "    \"x    x   x\", \n",
    "    \"xxxxxxxxxx\"\n",
    "    \n",
    "]"
   ]
  },
  {
   "cell_type": "code",
   "execution_count": 75,
   "id": "f3e0c2f0",
   "metadata": {},
   "outputs": [],
   "source": [
    "end_maze = [(1, 1)]\n",
    "agent_maze = stage.Agent(4, 8, bg.red, fg.red)\n",
    "env_maze = stage.Environment(setup_maze, [agent_maze],end_maze)"
   ]
  },
  {
   "cell_type": "code",
   "execution_count": 76,
   "id": "fcc11234",
   "metadata": {},
   "outputs": [
    {
     "name": "stdout",
     "output_type": "stream",
     "text": [
      " - ------ \n",
      "|\u001b[31mx\u001b[39m|      |\n",
      "| |  +   |\n",
      "| +  |   |\n",
      "|    |  \u001b[41m \u001b[49m|\n",
      " ---- --- \n"
     ]
    }
   ],
   "source": [
    "print(env_maze.render())"
   ]
  },
  {
   "cell_type": "code",
   "execution_count": 80,
   "id": "e2e1edb1",
   "metadata": {},
   "outputs": [],
   "source": [
    "Agent_maze = Agent(lr = 0.01,  gamma=0.99, epsilon=1.0, batch_size=64, n_actions=5,\n",
    "                 eps_end=0.01, input_dims=[8])"
   ]
  },
  {
   "cell_type": "code",
   "execution_count": 81,
   "id": "7636ff2c",
   "metadata": {},
   "outputs": [],
   "source": [
    "mazeDQ = DeepQLearn(env_maze, [Agent_maze])"
   ]
  },
  {
   "cell_type": "code",
   "execution_count": 82,
   "id": "5913b56f",
   "metadata": {},
   "outputs": [
    {
     "name": "stdout",
     "output_type": "stream",
     "text": [
      "episode 0 score -284.00 averaeg score -284.00 epsilon 0.88\n",
      "episode 1 score -387.00 averaeg score -335.50 epsilon 0.69\n",
      "episode 2 score -105.00 averaeg score -258.67 epsilon 0.63\n",
      "episode 3 score -404.00 averaeg score -295.00 epsilon 0.42\n",
      "episode 4 score -255.00 averaeg score -287.00 epsilon 0.29\n",
      "episode 5 score -952.00 averaeg score -397.83 epsilon 0.01\n",
      "episode 6 score -3986.00 averaeg score -910.43 epsilon 0.01\n",
      "episode 7 score -482.00 averaeg score -856.88 epsilon 0.01\n",
      "episode 8 score -37.00 averaeg score -765.78 epsilon 0.01\n",
      "episode 9 score -20001.00 averaeg score -2689.30 epsilon 0.01\n",
      "episode 10 score -2904.00 averaeg score -2708.82 epsilon 0.01\n",
      "episode 11 score -2421.00 averaeg score -2684.83 epsilon 0.01\n",
      "episode 12 score -20001.00 averaeg score -4016.85 epsilon 0.01\n",
      "episode 13 score -3711.00 averaeg score -3995.00 epsilon 0.01\n",
      "episode 14 score -20001.00 averaeg score -5062.07 epsilon 0.01\n",
      "episode 15 score -13136.00 averaeg score -5566.69 epsilon 0.01\n",
      "episode 16 score -6226.00 averaeg score -5605.47 epsilon 0.01\n",
      "episode 17 score -19533.00 averaeg score -6379.22 epsilon 0.01\n",
      "episode 18 score -2725.00 averaeg score -6186.89 epsilon 0.01\n",
      "episode 19 score -20001.00 averaeg score -6877.60 epsilon 0.01\n",
      "episode 20 score -20001.00 averaeg score -7502.52 epsilon 0.01\n"
     ]
    },
    {
     "ename": "KeyboardInterrupt",
     "evalue": "",
     "output_type": "error",
     "traceback": [
      "\u001b[0;31m---------------------------------------------------------------------------\u001b[0m",
      "\u001b[0;31mKeyboardInterrupt\u001b[0m                         Traceback (most recent call last)",
      "Input \u001b[0;32mIn [82]\u001b[0m, in \u001b[0;36m<cell line: 1>\u001b[0;34m()\u001b[0m\n\u001b[0;32m----> 1\u001b[0m \u001b[43mmazeDQ\u001b[49m\u001b[38;5;241;43m.\u001b[39;49m\u001b[43mtrain\u001b[49m\u001b[43m(\u001b[49m\u001b[38;5;241;43m20_000\u001b[39;49m\u001b[43m,\u001b[49m\u001b[43m \u001b[49m\u001b[38;5;241;43m100\u001b[39;49m\u001b[43m)\u001b[49m\n",
      "File \u001b[0;32m<string>:26\u001b[0m, in \u001b[0;36mtrain\u001b[0;34m(self, cap, episodes)\u001b[0m\n",
      "File \u001b[0;32m<string>:70\u001b[0m, in \u001b[0;36mlearn\u001b[0;34m(self)\u001b[0m\n",
      "File \u001b[0;32m~/.local/lib/python3.10/site-packages/torch/optim/optimizer.py:88\u001b[0m, in \u001b[0;36mOptimizer._hook_for_profile.<locals>.profile_hook_step.<locals>.wrapper\u001b[0;34m(*args, **kwargs)\u001b[0m\n\u001b[1;32m     86\u001b[0m profile_name \u001b[38;5;241m=\u001b[39m \u001b[38;5;124m\"\u001b[39m\u001b[38;5;124mOptimizer.step#\u001b[39m\u001b[38;5;132;01m{}\u001b[39;00m\u001b[38;5;124m.step\u001b[39m\u001b[38;5;124m\"\u001b[39m\u001b[38;5;241m.\u001b[39mformat(obj\u001b[38;5;241m.\u001b[39m\u001b[38;5;18m__class__\u001b[39m\u001b[38;5;241m.\u001b[39m\u001b[38;5;18m__name__\u001b[39m)\n\u001b[1;32m     87\u001b[0m \u001b[38;5;28;01mwith\u001b[39;00m torch\u001b[38;5;241m.\u001b[39mautograd\u001b[38;5;241m.\u001b[39mprofiler\u001b[38;5;241m.\u001b[39mrecord_function(profile_name):\n\u001b[0;32m---> 88\u001b[0m     \u001b[38;5;28;01mreturn\u001b[39;00m \u001b[43mfunc\u001b[49m\u001b[43m(\u001b[49m\u001b[38;5;241;43m*\u001b[39;49m\u001b[43margs\u001b[49m\u001b[43m,\u001b[49m\u001b[43m \u001b[49m\u001b[38;5;241;43m*\u001b[39;49m\u001b[38;5;241;43m*\u001b[39;49m\u001b[43mkwargs\u001b[49m\u001b[43m)\u001b[49m\n",
      "File \u001b[0;32m~/.local/lib/python3.10/site-packages/torch/autograd/grad_mode.py:27\u001b[0m, in \u001b[0;36m_DecoratorContextManager.__call__.<locals>.decorate_context\u001b[0;34m(*args, **kwargs)\u001b[0m\n\u001b[1;32m     24\u001b[0m \u001b[38;5;129m@functools\u001b[39m\u001b[38;5;241m.\u001b[39mwraps(func)\n\u001b[1;32m     25\u001b[0m \u001b[38;5;28;01mdef\u001b[39;00m \u001b[38;5;21mdecorate_context\u001b[39m(\u001b[38;5;241m*\u001b[39margs, \u001b[38;5;241m*\u001b[39m\u001b[38;5;241m*\u001b[39mkwargs):\n\u001b[1;32m     26\u001b[0m     \u001b[38;5;28;01mwith\u001b[39;00m \u001b[38;5;28mself\u001b[39m\u001b[38;5;241m.\u001b[39mclone():\n\u001b[0;32m---> 27\u001b[0m         \u001b[38;5;28;01mreturn\u001b[39;00m \u001b[43mfunc\u001b[49m\u001b[43m(\u001b[49m\u001b[38;5;241;43m*\u001b[39;49m\u001b[43margs\u001b[49m\u001b[43m,\u001b[49m\u001b[43m \u001b[49m\u001b[38;5;241;43m*\u001b[39;49m\u001b[38;5;241;43m*\u001b[39;49m\u001b[43mkwargs\u001b[49m\u001b[43m)\u001b[49m\n",
      "File \u001b[0;32m~/.local/lib/python3.10/site-packages/torch/optim/adam.py:141\u001b[0m, in \u001b[0;36mAdam.step\u001b[0;34m(self, closure)\u001b[0m\n\u001b[1;32m    138\u001b[0m             \u001b[38;5;66;03m# record the step after step update\u001b[39;00m\n\u001b[1;32m    139\u001b[0m             state_steps\u001b[38;5;241m.\u001b[39mappend(state[\u001b[38;5;124m'\u001b[39m\u001b[38;5;124mstep\u001b[39m\u001b[38;5;124m'\u001b[39m])\n\u001b[0;32m--> 141\u001b[0m     \u001b[43mF\u001b[49m\u001b[38;5;241;43m.\u001b[39;49m\u001b[43madam\u001b[49m\u001b[43m(\u001b[49m\u001b[43mparams_with_grad\u001b[49m\u001b[43m,\u001b[49m\n\u001b[1;32m    142\u001b[0m \u001b[43m           \u001b[49m\u001b[43mgrads\u001b[49m\u001b[43m,\u001b[49m\n\u001b[1;32m    143\u001b[0m \u001b[43m           \u001b[49m\u001b[43mexp_avgs\u001b[49m\u001b[43m,\u001b[49m\n\u001b[1;32m    144\u001b[0m \u001b[43m           \u001b[49m\u001b[43mexp_avg_sqs\u001b[49m\u001b[43m,\u001b[49m\n\u001b[1;32m    145\u001b[0m \u001b[43m           \u001b[49m\u001b[43mmax_exp_avg_sqs\u001b[49m\u001b[43m,\u001b[49m\n\u001b[1;32m    146\u001b[0m \u001b[43m           \u001b[49m\u001b[43mstate_steps\u001b[49m\u001b[43m,\u001b[49m\n\u001b[1;32m    147\u001b[0m \u001b[43m           \u001b[49m\u001b[43mamsgrad\u001b[49m\u001b[38;5;241;43m=\u001b[39;49m\u001b[43mgroup\u001b[49m\u001b[43m[\u001b[49m\u001b[38;5;124;43m'\u001b[39;49m\u001b[38;5;124;43mamsgrad\u001b[39;49m\u001b[38;5;124;43m'\u001b[39;49m\u001b[43m]\u001b[49m\u001b[43m,\u001b[49m\n\u001b[1;32m    148\u001b[0m \u001b[43m           \u001b[49m\u001b[43mbeta1\u001b[49m\u001b[38;5;241;43m=\u001b[39;49m\u001b[43mbeta1\u001b[49m\u001b[43m,\u001b[49m\n\u001b[1;32m    149\u001b[0m \u001b[43m           \u001b[49m\u001b[43mbeta2\u001b[49m\u001b[38;5;241;43m=\u001b[39;49m\u001b[43mbeta2\u001b[49m\u001b[43m,\u001b[49m\n\u001b[1;32m    150\u001b[0m \u001b[43m           \u001b[49m\u001b[43mlr\u001b[49m\u001b[38;5;241;43m=\u001b[39;49m\u001b[43mgroup\u001b[49m\u001b[43m[\u001b[49m\u001b[38;5;124;43m'\u001b[39;49m\u001b[38;5;124;43mlr\u001b[39;49m\u001b[38;5;124;43m'\u001b[39;49m\u001b[43m]\u001b[49m\u001b[43m,\u001b[49m\n\u001b[1;32m    151\u001b[0m \u001b[43m           \u001b[49m\u001b[43mweight_decay\u001b[49m\u001b[38;5;241;43m=\u001b[39;49m\u001b[43mgroup\u001b[49m\u001b[43m[\u001b[49m\u001b[38;5;124;43m'\u001b[39;49m\u001b[38;5;124;43mweight_decay\u001b[39;49m\u001b[38;5;124;43m'\u001b[39;49m\u001b[43m]\u001b[49m\u001b[43m,\u001b[49m\n\u001b[1;32m    152\u001b[0m \u001b[43m           \u001b[49m\u001b[43meps\u001b[49m\u001b[38;5;241;43m=\u001b[39;49m\u001b[43mgroup\u001b[49m\u001b[43m[\u001b[49m\u001b[38;5;124;43m'\u001b[39;49m\u001b[38;5;124;43meps\u001b[39;49m\u001b[38;5;124;43m'\u001b[39;49m\u001b[43m]\u001b[49m\u001b[43m,\u001b[49m\n\u001b[1;32m    153\u001b[0m \u001b[43m           \u001b[49m\u001b[43mmaximize\u001b[49m\u001b[38;5;241;43m=\u001b[39;49m\u001b[43mgroup\u001b[49m\u001b[43m[\u001b[49m\u001b[38;5;124;43m'\u001b[39;49m\u001b[38;5;124;43mmaximize\u001b[39;49m\u001b[38;5;124;43m'\u001b[39;49m\u001b[43m]\u001b[49m\u001b[43m)\u001b[49m\n\u001b[1;32m    154\u001b[0m \u001b[38;5;28;01mreturn\u001b[39;00m loss\n",
      "File \u001b[0;32m~/.local/lib/python3.10/site-packages/torch/optim/_functional.py:110\u001b[0m, in \u001b[0;36madam\u001b[0;34m(params, grads, exp_avgs, exp_avg_sqs, max_exp_avg_sqs, state_steps, amsgrad, beta1, beta2, lr, weight_decay, eps, maximize)\u001b[0m\n\u001b[1;32m    105\u001b[0m     denom \u001b[38;5;241m=\u001b[39m (exp_avg_sq\u001b[38;5;241m.\u001b[39msqrt() \u001b[38;5;241m/\u001b[39m math\u001b[38;5;241m.\u001b[39msqrt(bias_correction2))\u001b[38;5;241m.\u001b[39madd_(eps)\n\u001b[1;32m    109\u001b[0m step_size \u001b[38;5;241m=\u001b[39m lr \u001b[38;5;241m/\u001b[39m bias_correction1\n\u001b[0;32m--> 110\u001b[0m \u001b[43mparam\u001b[49m\u001b[38;5;241;43m.\u001b[39;49m\u001b[43maddcdiv_\u001b[49m\u001b[43m(\u001b[49m\u001b[43mexp_avg\u001b[49m\u001b[43m,\u001b[49m\u001b[43m \u001b[49m\u001b[43mdenom\u001b[49m\u001b[43m,\u001b[49m\u001b[43m \u001b[49m\u001b[43mvalue\u001b[49m\u001b[38;5;241;43m=\u001b[39;49m\u001b[38;5;241;43m-\u001b[39;49m\u001b[43mstep_size\u001b[49m\u001b[43m)\u001b[49m\n",
      "\u001b[0;31mKeyboardInterrupt\u001b[0m: "
     ]
    }
   ],
   "source": [
    "mazeDQ.train(20_000, 100)"
   ]
  },
  {
   "cell_type": "code",
   "execution_count": null,
   "id": "aa0a76ff",
   "metadata": {},
   "outputs": [],
   "source": []
  }
 ],
 "metadata": {
  "kernelspec": {
   "display_name": "Python 3 (ipykernel)",
   "language": "python",
   "name": "python3"
  },
  "language_info": {
   "codemirror_mode": {
    "name": "ipython",
    "version": 3
   },
   "file_extension": ".py",
   "mimetype": "text/x-python",
   "name": "python",
   "nbconvert_exporter": "python",
   "pygments_lexer": "ipython3",
   "version": "3.10.3"
  }
 },
 "nbformat": 4,
 "nbformat_minor": 5
}
