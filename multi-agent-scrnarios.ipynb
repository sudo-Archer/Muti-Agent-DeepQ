{
 "cells": [
  {
   "cell_type": "code",
   "execution_count": 1,
   "id": "bbc18907",
   "metadata": {},
   "outputs": [
    {
     "name": "stdout",
     "output_type": "stream",
     "text": [
      "importing Jupyter notebook from stage.ipynb\n",
      "importing Jupyter notebook from DQL.ipynb\n"
     ]
    }
   ],
   "source": [
    "import import_ipynb\n",
    "import stage\n",
    "from DQL import DeepQLearn, Agent\n",
    "import numpy as np\n",
    "from IPython.display import clear_output\n",
    "from sty import fg, bg, ef, rs\n",
    "import random\n",
    "import matplotlib.pyplot as plt"
   ]
  },
  {
   "cell_type": "markdown",
   "id": "04b5f6fd",
   "metadata": {},
   "source": [
    "# Lots of room"
   ]
  },
  {
   "cell_type": "code",
   "execution_count": 14,
   "id": "c48c668c",
   "metadata": {},
   "outputs": [],
   "source": [
    "big_squre = [\n",
    "    \n",
    "    \"xxxxxxxxxx\",\n",
    "    \"x        x\",\n",
    "    \"x        x\",\n",
    "    \"x        x\",\n",
    "    \"x        x\",\n",
    "    \"x        x\",\n",
    "    \"x        x\",\n",
    "    \"x        x\",\n",
    "    \"x        x\",\n",
    "    \"xxxxxxxxxx\",\n",
    "    \n",
    "]"
   ]
  },
  {
   "cell_type": "code",
   "execution_count": 15,
   "id": "d9bad960",
   "metadata": {},
   "outputs": [],
   "source": [
    "end_big = [(1, 1), (1, 8)]\n",
    "agent1_big = stage.Agent(8, 8, bg.red, fg.red)\n",
    "agent2_big = stage.Agent(8, 1, bg.blue, fg.blue)\n",
    "\n",
    "env_big_squre = stage.Environment(big_squre, [agent1_big, agent2_big], end_big)"
   ]
  },
  {
   "cell_type": "code",
   "execution_count": 13,
   "id": "96eae715",
   "metadata": {},
   "outputs": [
    {
     "name": "stdout",
     "output_type": "stream",
     "text": [
      " -------- \n",
      "|\u001b[31mx\u001b[39m      \u001b[34mx\u001b[39m|\n",
      "|        |\n",
      "|        |\n",
      "|        |\n",
      "|        |\n",
      "|        |\n",
      "|        |\n",
      "|\u001b[44m \u001b[49m      \u001b[41m \u001b[49m|\n",
      " -------- \n"
     ]
    }
   ],
   "source": [
    "print(env_big_squre.render())"
   ]
  },
  {
   "cell_type": "code",
   "execution_count": 17,
   "id": "2a53b94d",
   "metadata": {},
   "outputs": [],
   "source": [
    "Agent1_big = Agent(lr = 0.01,  gamma=0.99, epsilon=1.0, batch_size=64, n_actions=5,\n",
    "                 eps_end=0.01, input_dims=[8])\n",
    "Agent2_big = Agent(lr = 0.01,  gamma=0.99, epsilon=1.0, batch_size=64, n_actions=5,\n",
    "                 eps_end=0.01, input_dims=[8])\n",
    "\n",
    "Agents_big = [Agent1_big, Agent2_big]"
   ]
  },
  {
   "cell_type": "code",
   "execution_count": 18,
   "id": "a5d646bc",
   "metadata": {},
   "outputs": [],
   "source": [
    "big_squreDQ = DeepQLearn(env_big_squre, Agents_big)"
   ]
  },
  {
   "cell_type": "code",
   "execution_count": null,
   "id": "19af902e",
   "metadata": {},
   "outputs": [],
   "source": [
    "big_squreDQ.train()"
   ]
  }
 ],
 "metadata": {
  "kernelspec": {
   "display_name": "Python 3 (ipykernel)",
   "language": "python",
   "name": "python3"
  },
  "language_info": {
   "codemirror_mode": {
    "name": "ipython",
    "version": 3
   },
   "file_extension": ".py",
   "mimetype": "text/x-python",
   "name": "python",
   "nbconvert_exporter": "python",
   "pygments_lexer": "ipython3",
   "version": "3.10.3"
  }
 },
 "nbformat": 4,
 "nbformat_minor": 5
}
